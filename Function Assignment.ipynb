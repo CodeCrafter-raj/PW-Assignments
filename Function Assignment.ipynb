{
 "cells": [
  {
   "cell_type": "markdown",
   "id": "7494a963",
   "metadata": {},
   "source": [
    "# 1. What is the difference between a function and a method in Python?"
   ]
  },
  {
   "cell_type": "markdown",
   "id": "e074f701",
   "metadata": {},
   "source": [
    "A function is a block of code that is independent and can be called by its name. It doesn't belong to any object or class specifically. \n",
    "\n",
    "A method, on the other hand, is a function that is associated with an object or a class. \n",
    "It is defined within a class and operates on the data of that object."
   ]
  },
  {
   "cell_type": "code",
   "execution_count": 50,
   "id": "21897a32",
   "metadata": {},
   "outputs": [
    {
     "name": "stdout",
     "output_type": "stream",
     "text": [
      "Hello, Alice!\n"
     ]
    }
   ],
   "source": [
    "def greet(name):\n",
    "    return f\"Hello, {name}!\"\n",
    "\n",
    "print(greet(\"Alice\")) # Calling a function"
   ]
  },
  {
   "cell_type": "code",
   "execution_count": 51,
   "id": "fa1b9704",
   "metadata": {},
   "outputs": [
    {
     "name": "stdout",
     "output_type": "stream",
     "text": [
      "Processing: example\n"
     ]
    }
   ],
   "source": [
    "class MyClass:\n",
    "    def my_method(self, data): # my_method is a method\n",
    "        return f\"Processing: {data}\"\n",
    "\n",
    "obj = MyClass()\n",
    "print(obj.my_method(\"example\")) # Calling a method on an object"
   ]
  },
  {
   "cell_type": "markdown",
   "id": "943c47bb",
   "metadata": {},
   "source": [
    "# 2. Explain the concept of function arguments and parameters in Python."
   ]
  },
  {
   "cell_type": "markdown",
   "id": "492c8b52",
   "metadata": {},
   "source": [
    "Parameters are the names listed in the function definition. They act as placeholders for the values that will be passed into the function. \n",
    "Arguments are the actual values passed to the function when it is called."
   ]
  },
  {
   "cell_type": "code",
   "execution_count": 52,
   "id": "3d0b8ac1",
   "metadata": {},
   "outputs": [
    {
     "name": "stdout",
     "output_type": "stream",
     "text": [
      "8\n"
     ]
    }
   ],
   "source": [
    "def add_numbers(x, y): # x and y are parameters\n",
    "    return x + y\n",
    "\n",
    "result = add_numbers(5, 3) # 5 and 3 are arguments\n",
    "print(result)"
   ]
  },
  {
   "cell_type": "markdown",
   "id": "83f631f5",
   "metadata": {},
   "source": [
    "# 3. What are the different ways to define and call a function in Python?"
   ]
  },
  {
   "cell_type": "markdown",
   "id": "14bf60ca",
   "metadata": {},
   "source": [
    "Functions are defined using the def keyword, followed by the function name, parentheses (), and a colon :The function body is indented. \n",
    "Functions are called by using their name followed by parentheses (), optionally passing arguments."
   ]
  },
  {
   "cell_type": "code",
   "execution_count": 53,
   "id": "548b86b4",
   "metadata": {},
   "outputs": [],
   "source": [
    "def say_hello():\n",
    "    print(\"Hello!\")\n",
    "\n",
    "def add(a, b):\n",
    "    return a + b"
   ]
  },
  {
   "cell_type": "code",
   "execution_count": 54,
   "id": "895a4898",
   "metadata": {},
   "outputs": [
    {
     "name": "stdout",
     "output_type": "stream",
     "text": [
      "Hello!\n",
      "15\n"
     ]
    }
   ],
   "source": [
    "#Calling (without arguments):\n",
    "\n",
    "say_hello()\n",
    "\n",
    "#Calling (with positional arguments):\n",
    "\n",
    "sum_result = add(10, 5)\n",
    "print(sum_result)"
   ]
  },
  {
   "cell_type": "code",
   "execution_count": 55,
   "id": "f5eea6a5",
   "metadata": {},
   "outputs": [
    {
     "name": "stdout",
     "output_type": "stream",
     "text": [
      "9\n"
     ]
    }
   ],
   "source": [
    "#Calling (with keyword arguments):\n",
    "\n",
    "product_result = add(b=7, a=2) # Order doesn't matter for keyword arguments\n",
    "print(product_result)"
   ]
  },
  {
   "cell_type": "markdown",
   "id": "c6e3e8f5",
   "metadata": {},
   "source": [
    "# 4. What is the purpose of the return statement in a Python function?"
   ]
  },
  {
   "cell_type": "markdown",
   "id": "d7c214a1",
   "metadata": {},
   "source": [
    "The return statement is used to exit a function and optionally send a value back to the caller.\n",
    "If no return statement is present, or if return is used without an argument, the function implicitly returns None."
   ]
  },
  {
   "cell_type": "code",
   "execution_count": 56,
   "id": "ee56389f",
   "metadata": {},
   "outputs": [
    {
     "name": "stdout",
     "output_type": "stream",
     "text": [
      "24\n",
      "None\n"
     ]
    }
   ],
   "source": [
    "def multiply(a, b):\n",
    "    return a * b # Returns the product of a and b\n",
    "\n",
    "result = multiply(4, 6)\n",
    "print(result) # Output: 24\n",
    "\n",
    "def do_nothing():\n",
    "    pass # No return statement, implicitly returns None\n",
    "\n",
    "none_val = do_nothing()\n",
    "print(none_val) # Output: None"
   ]
  },
  {
   "cell_type": "markdown",
   "id": "2035062c",
   "metadata": {},
   "source": [
    "# 5. What are iterators in Python and how do they differ from iterables?"
   ]
  },
  {
   "cell_type": "markdown",
   "id": "37be989b",
   "metadata": {},
   "source": [
    "An iterable is any object that can be \"iterated over\" (e.g., a list, tuple, string, dictionary).\n",
    "\n",
    "It has an __iter__() method that returns an iterator.\n",
    "\n",
    "An iterator is an object that represents a stream of data. It has a __next__() method that returns the next item in the sequence.\n",
    "\n",
    "When there are no more items, it raises a StopIteration exception."
   ]
  },
  {
   "cell_type": "code",
   "execution_count": 57,
   "id": "a3aa654a",
   "metadata": {},
   "outputs": [
    {
     "name": "stdout",
     "output_type": "stream",
     "text": [
      "1\n",
      "2\n",
      "3\n"
     ]
    }
   ],
   "source": [
    "#Iterable (list):\n",
    "\n",
    "my_list = [1, 2, 3] # my_list is an iterable\n",
    "for item in my_list: # The 'for' loop uses an iterator internally\n",
    "    print(item)"
   ]
  },
  {
   "cell_type": "code",
   "execution_count": 58,
   "id": "fafb94cf",
   "metadata": {},
   "outputs": [
    {
     "name": "stdout",
     "output_type": "stream",
     "text": [
      "1\n",
      "2\n",
      "3\n"
     ]
    }
   ],
   "source": [
    "#Iterator:\n",
    "\n",
    "my_list = [1, 2, 3]\n",
    "my_iterator = iter(my_list) # Get an iterator from the iterable\n",
    "\n",
    "print(next(my_iterator)) # Output: 1\n",
    "print(next(my_iterator)) # Output: 2\n",
    "print(next(my_iterator)) # Output: 3\n",
    "# next(my_iterator) would raise StopIteration"
   ]
  },
  {
   "cell_type": "markdown",
   "id": "4cdc03e0",
   "metadata": {},
   "source": [
    "# 6. Explain the concept of generators in Python and how they are defined."
   ]
  },
  {
   "cell_type": "markdown",
   "id": "bd2e40ed",
   "metadata": {},
   "source": [
    "Generators are a special type of iterable that allow you to declare a function that behaves like an iterator. \n",
    "\n",
    "They are \"lazy\" in nature, meaning they produce items one at a time and only when requested, rather than building the entire sequence in memory.\n",
    "\n",
    "Generators are defined like regular functions but use the yield keyword instead of return to produce a sequence of results."
   ]
  },
  {
   "cell_type": "code",
   "execution_count": 59,
   "id": "afb0c0c0",
   "metadata": {},
   "outputs": [
    {
     "name": "stdout",
     "output_type": "stream",
     "text": [
      "1\n",
      "2\n",
      "3\n",
      "\n",
      "Iterating with for loop:\n",
      "1\n",
      "2\n",
      "3\n",
      "4\n",
      "5\n"
     ]
    }
   ],
   "source": [
    "def count_up_to(n):\n",
    "    i = 1\n",
    "    while i <= n:\n",
    "        yield i # The yield keyword makes this a generator\n",
    "        i += 1\n",
    "\n",
    "# Creating a generator object\n",
    "counter_gen = count_up_to(3)\n",
    "\n",
    "print(next(counter_gen)) # Output: 1\n",
    "print(next(counter_gen)) # Output: 2\n",
    "print(next(counter_gen)) # Output: 3\n",
    "\n",
    "# Generators can be iterated over using a for loop\n",
    "print(\"\\nIterating with for loop:\")\n",
    "for num in count_up_to(5):\n",
    "    print(num)"
   ]
  },
  {
   "cell_type": "markdown",
   "id": "960e077a",
   "metadata": {},
   "source": [
    "# 7. What are the advantages of using generators over regular functions?"
   ]
  },
  {
   "cell_type": "markdown",
   "id": "78980245",
   "metadata": {},
   "source": [
    "The main advantages of generators are:\n",
    "\n",
    "Memory Efficiency: They produce items one at a time, on demand, which is crucial for very large or infinite sequences as they don't store the entire sequence in memory.\n",
    "\n",
    "    \n",
    "Performance: They can be faster for certain operations as they don't incur the overhead of building and managing a full list or similar data structure.\n",
    "\n",
    "    \n",
    "Lazy Evaluation: Elements are generated only when requested, which is useful when you don't need all elements at once.\n",
    "\n",
    "    \n",
    "Simplicity: They allow you to write code that looks like a function but behaves like an iterator, making complex iteration logic easier to read and write."
   ]
  },
  {
   "cell_type": "code",
   "execution_count": 60,
   "id": "2bceae79",
   "metadata": {},
   "outputs": [
    {
     "name": "stdout",
     "output_type": "stream",
     "text": [
      "Found a large square: 100489\n"
     ]
    }
   ],
   "source": [
    "#Memory Efficiency (Imagine millions of numbers):\n",
    "\n",
    "# Using a list (less memory efficient for huge numbers)\n",
    "# def create_list_of_squares(n):\n",
    "#     return [i*i for i in range(n)]\n",
    "\n",
    "# Using a generator (memory efficient)\n",
    "def generate_squares(n):\n",
    "    for i in range(n):\n",
    "        yield i*i\n",
    "\n",
    "# Only one square is in memory at a time, as needed\n",
    "for square in generate_squares(1000000):\n",
    "    if square > 100000:\n",
    "        print(f\"Found a large square: {square}\")\n",
    "        break # Can stop early without generating all"
   ]
  },
  {
   "cell_type": "markdown",
   "id": "020eb9ef",
   "metadata": {},
   "source": [
    "# 8. What is a lambda function in Python and when is it typically used?"
   ]
  },
  {
   "cell_type": "markdown",
   "id": "a87021bd",
   "metadata": {},
   "source": [
    "A lambda function (or anonymous function) is a small, single-expression function that doesn't have a formal name. \n",
    "It is defined using the lambda keyword. Lambda functions are typically used for short, throwaway functions that are needed for a brief period, often as arguments to higher-order functions (like map, filter, sorted, etc.)."
   ]
  },
  {
   "cell_type": "code",
   "execution_count": 61,
   "id": "afc9af46",
   "metadata": {},
   "outputs": [
    {
     "name": "stdout",
     "output_type": "stream",
     "text": [
      "8\n",
      "[('Charlie', 18), ('Alice', 20), ('Bob', 25)]\n"
     ]
    }
   ],
   "source": [
    "# Simple lambda function\n",
    "add = lambda x, y: x + y\n",
    "print(add(5, 3)) # Output: 8\n",
    "\n",
    "# Used with sorted()\n",
    "students = [('Alice', 20), ('Bob', 25), ('Charlie', 18)]\n",
    "# Sort by age (second element of the tuple)\n",
    "sorted_students = sorted(students, key=lambda student: student[1])\n",
    "print(sorted_students)\n",
    "# Output: [('Charlie', 18), ('Alice', 20), ('Bob', 25)]"
   ]
  },
  {
   "cell_type": "markdown",
   "id": "d763515c",
   "metadata": {},
   "source": [
    "# 9. Explain the purpose and usage of the map() function in Python."
   ]
  },
  {
   "cell_type": "markdown",
   "id": "c61da3ea",
   "metadata": {},
   "source": [
    "The map() function applies a given function to all items in an iterable (like a list) and returns an iterator that yields the results. \n",
    "It's useful for transforming each item in an iterable."
   ]
  },
  {
   "cell_type": "code",
   "execution_count": 62,
   "id": "5b9fe929",
   "metadata": {},
   "outputs": [
    {
     "name": "stdout",
     "output_type": "stream",
     "text": [
      "[1, 4, 9, 16]\n",
      "[2, 4, 6, 8]\n"
     ]
    }
   ],
   "source": [
    "def square(x):\n",
    "    return x * x\n",
    "\n",
    "numbers = [1, 2, 3, 4]\n",
    "\n",
    "# Using map with a regular function\n",
    "squared_numbers_map = map(square, numbers)\n",
    "print(list(squared_numbers_map)) # Output: [1, 4, 9, 16]\n",
    "\n",
    "# Using map with a lambda function\n",
    "doubled_numbers_map = map(lambda x: x * 2, numbers)\n",
    "print(list(doubled_numbers_map)) # Output: [2, 4, 6, 8]"
   ]
  },
  {
   "cell_type": "markdown",
   "id": "3be3b28f",
   "metadata": {},
   "source": [
    "# 10. What is the difference between map(), reduce(), and filter() functions in Python?"
   ]
  },
  {
   "cell_type": "markdown",
   "id": "25474102",
   "metadata": {},
   "source": [
    "These are all higher-order functions that work with iterables, but they serve different purposes:\n",
    "\n",
    "map(): Applies a function to each item in an iterable and returns an iterator of the results. It transforms data one-to-one.\n",
    "    \n",
    "filter(): Constructs an iterator from elements of an iterable for which a function returns True. It selects a subset of elements.\n",
    "    \n",
    "    \n",
    "reduce(): (From functools module) Applies a function of two arguments cumulatively to the items of an iterable, from left to right, so as to reduce the iterable to a single value."
   ]
  },
  {
   "cell_type": "code",
   "execution_count": 63,
   "id": "ac58f57c",
   "metadata": {},
   "outputs": [
    {
     "name": "stdout",
     "output_type": "stream",
     "text": [
      "map() result: [10, 20, 30, 40, 50]\n",
      "filter() result: [2, 4]\n",
      "reduce() sum: 15\n",
      "reduce() max: 5\n"
     ]
    }
   ],
   "source": [
    "from functools import reduce\n",
    "\n",
    "numbers = [1, 2, 3, 4, 5]\n",
    "\n",
    "# map(): Transform each item\n",
    "mapped_result = list(map(lambda x: x * 10, numbers))\n",
    "print(f\"map() result: {mapped_result}\") # Output: [10, 20, 30, 40, 50]\n",
    "\n",
    "# filter(): Select items based on a condition\n",
    "filtered_result = list(filter(lambda x: x % 2 == 0, numbers))\n",
    "print(f\"filter() result: {filtered_result}\") # Output: [2, 4]\n",
    "\n",
    "# reduce(): Aggregate items to a single value\n",
    "sum_result = reduce(lambda x, y: x + y, numbers)\n",
    "print(f\"reduce() sum: {sum_result}\") # Output: 15 (1+2+3+4+5)\n",
    "\n",
    "max_result = reduce(lambda x, y: x if x > y else y, numbers)\n",
    "print(f\"reduce() max: {max_result}\") # Output: 5"
   ]
  },
  {
   "cell_type": "markdown",
   "id": "dc1707a8",
   "metadata": {},
   "source": [
    "# Practical Questions:"
   ]
  },
  {
   "cell_type": "markdown",
   "id": "1d33b476",
   "metadata": {},
   "source": [
    "# 1. Write a Python function that takes a list of numbers as input and returns the sum of all even numbers in the list."
   ]
  },
  {
   "cell_type": "code",
   "execution_count": 64,
   "id": "de11d9b0",
   "metadata": {},
   "outputs": [
    {
     "name": "stdout",
     "output_type": "stream",
     "text": [
      "Sum of even numbers in [1, 2, 3, 4, 5, 6, 7, 8, 9, 10]: 30\n",
      "Sum of even numbers in [15, 22, 31, 40, 55]: 62\n",
      "Sum of even numbers in []: 0\n"
     ]
    }
   ],
   "source": [
    "def sum_even_numbers(numbers_list):\n",
    "    \"\"\"\n",
    "    Calculates the sum of all even numbers in a given list.\n",
    "\n",
    "    Args:\n",
    "        numbers_list (list): A list of numbers.\n",
    "\n",
    "    Returns:\n",
    "        int: The sum of even numbers.\n",
    "    \"\"\"\n",
    "    total_even_sum = 0\n",
    "    for number in numbers_list:\n",
    "        if number % 2 == 0:\n",
    "            total_even_sum += number\n",
    "    return total_even_sum\n",
    "\n",
    "# Example Usage:\n",
    "my_numbers = [1, 2, 3, 4, 5, 6, 7, 8, 9, 10]\n",
    "even_sum = sum_even_numbers(my_numbers)\n",
    "print(f\"Sum of even numbers in {my_numbers}: {even_sum}\")\n",
    "\n",
    "my_numbers_2 = [15, 22, 31, 40, 55]\n",
    "even_sum_2 = sum_even_numbers(my_numbers_2)\n",
    "print(f\"Sum of even numbers in {my_numbers_2}: {even_sum_2}\")\n",
    "\n",
    "empty_list = []\n",
    "even_sum_empty = sum_even_numbers(empty_list)\n",
    "print(f\"Sum of even numbers in {empty_list}: {even_sum_empty}\")"
   ]
  },
  {
   "cell_type": "markdown",
   "id": "8ba7a495",
   "metadata": {},
   "source": [
    "# 2. Create a Python function that accepts a string and returns the reverse of that string."
   ]
  },
  {
   "cell_type": "code",
   "execution_count": 65,
   "id": "69e8d292",
   "metadata": {},
   "outputs": [
    {
     "name": "stdout",
     "output_type": "stream",
     "text": [
      "Original: 'hello', Reversed: 'olleh'\n",
      "Original: 'Python', Reversed: 'nohtyP'\n",
      "Original: 'madam', Reversed: 'madam'\n",
      "Original: '', Reversed: ''\n"
     ]
    }
   ],
   "source": [
    "def reverse_string(input_string):\n",
    "    \"\"\"\n",
    "    Reverses a given string.\n",
    "\n",
    "    Args:\n",
    "        input_string (str): The string to be reversed.\n",
    "\n",
    "    Returns:\n",
    "        str: The reversed string.\n",
    "    \"\"\"\n",
    "    return input_string[::-1] # Python slicing for reversal\n",
    "\n",
    "# Example Usage:\n",
    "str1 = \"hello\"\n",
    "print(f\"Original: '{str1}', Reversed: '{reverse_string(str1)}'\")\n",
    "\n",
    "str2 = \"Python\"\n",
    "print(f\"Original: '{str2}', Reversed: '{reverse_string(str2)}'\")\n",
    "\n",
    "str3 = \"madam\"\n",
    "print(f\"Original: '{str3}', Reversed: '{reverse_string(str3)}'\")\n",
    "\n",
    "str4 = \"\"\n",
    "print(f\"Original: '{str4}', Reversed: '{reverse_string(str4)}'\")"
   ]
  },
  {
   "cell_type": "markdown",
   "id": "53ad3b95",
   "metadata": {},
   "source": [
    "# 3. Implement a Python function that takes a list of integers and returns a new list containing the squares of each number."
   ]
  },
  {
   "cell_type": "code",
   "execution_count": 66,
   "id": "4819de95",
   "metadata": {},
   "outputs": [
    {
     "name": "stdout",
     "output_type": "stream",
     "text": [
      "Original list: [1, 2, 3, 4, 5], Squares: [1, 4, 9, 16, 25]\n",
      "Original list: [10, -3, 0, 7], Squares: [100, 9, 0, 49]\n",
      "Original list: [], Squares: []\n"
     ]
    }
   ],
   "source": [
    "def square_numbers(int_list):\n",
    "    \"\"\"\n",
    "    Returns a new list containing the squares of each number in the input list.\n",
    "\n",
    "    Args:\n",
    "        int_list (list): A list of integers.\n",
    "\n",
    "    Returns:\n",
    "        list: A new list with squared numbers.\n",
    "    \"\"\"\n",
    "    squared_list = []\n",
    "    for number in int_list:\n",
    "        squared_list.append(number * number)\n",
    "    return squared_list\n",
    "\n",
    "# Example Usage:\n",
    "numbers_to_square = [1, 2, 3, 4, 5]\n",
    "squares = square_numbers(numbers_to_square)\n",
    "print(f\"Original list: {numbers_to_square}, Squares: {squares}\")\n",
    "\n",
    "another_list = [10, -3, 0, 7]\n",
    "squares_2 = square_numbers(another_list)\n",
    "print(f\"Original list: {another_list}, Squares: {squares_2}\")\n",
    "\n",
    "empty_list_sq = []\n",
    "squares_empty = square_numbers(empty_list_sq)\n",
    "print(f\"Original list: {empty_list_sq}, Squares: {squares_empty}\")"
   ]
  },
  {
   "cell_type": "markdown",
   "id": "77a60852",
   "metadata": {},
   "source": [
    "# 4. Write a Python function that checks if a given number is prime or not from 1 to 200."
   ]
  },
  {
   "cell_type": "code",
   "execution_count": 67,
   "id": "6c2c4b31",
   "metadata": {},
   "outputs": [
    {
     "name": "stdout",
     "output_type": "stream",
     "text": [
      "Is 7 prime? True\n",
      "Is 10 prime? False\n",
      "Is 2 prime? True\n",
      "Is 1 prime? False\n",
      "Is 17 prime? True\n",
      "Is 199 prime? True\n",
      "Is 200 prime? False\n",
      "Warning: Number 0 is outside the 1-200 range for this function.\n",
      "Is 0 prime? False\n",
      "Warning: Number 201 is outside the 1-200 range for this function.\n",
      "Is 201 prime? False\n",
      "\n",
      "Prime numbers from 1 to 20:\n",
      "2 3 5 7 11 13 17 19 \n"
     ]
    }
   ],
   "source": [
    "def is_prime(number):\n",
    "    \"\"\"\n",
    "    Checks if a given number (between 1 and 200) is prime.\n",
    "\n",
    "    Args:\n",
    "        number (int): The number to check.\n",
    "\n",
    "    Returns:\n",
    "        bool: True if the number is prime, False otherwise.\n",
    "    \"\"\"\n",
    "    if not (1 <= number <= 200):\n",
    "        print(f\"Warning: Number {number} is outside the 1-200 range for this function.\")\n",
    "        # You might choose to raise an error or return False\n",
    "        return False\n",
    "\n",
    "    if number <= 1:\n",
    "        return False # Numbers less than or equal to 1 are not prime\n",
    "    if number <= 3:\n",
    "        return True  # 2 and 3 are prime\n",
    "    if number % 2 == 0 or number % 3 == 0:\n",
    "        return False # Multiples of 2 or 3 (except 2 and 3 themselves) are not prime\n",
    "\n",
    "    # Check for prime factors from 5 up to sqrt(number)\n",
    "    # Optimized check: check only numbers of the form 6k ± 1\n",
    "    i = 5\n",
    "    while i * i <= number:\n",
    "        if number % i == 0 or number % (i + 2) == 0:\n",
    "            return False\n",
    "        i += 6\n",
    "    return True\n",
    "\n",
    "# Example Usage:\n",
    "print(f\"Is 7 prime? {is_prime(7)}\")    # True\n",
    "print(f\"Is 10 prime? {is_prime(10)}\")  # False\n",
    "print(f\"Is 2 prime? {is_prime(2)}\")    # True\n",
    "print(f\"Is 1 prime? {is_prime(1)}\")    # False\n",
    "print(f\"Is 17 prime? {is_prime(17)}\")  # True\n",
    "print(f\"Is 199 prime? {is_prime(199)}\") # True\n",
    "print(f\"Is 200 prime? {is_prime(200)}\") # False\n",
    "print(f\"Is 0 prime? {is_prime(0)}\")    # False (and warning)\n",
    "print(f\"Is 201 prime? {is_prime(201)}\") # False (and warning)\n",
    "\n",
    "print(\"\\nPrime numbers from 1 to 20:\")\n",
    "for num in range(1, 21):\n",
    "    if is_prime(num):\n",
    "        print(num, end=\" \")\n",
    "print()"
   ]
  },
  {
   "cell_type": "markdown",
   "id": "2a431a86",
   "metadata": {},
   "source": [
    "# 5. Create an iterator class in Python that generates the Fibonacci sequence up to a specified number of terms."
   ]
  },
  {
   "cell_type": "code",
   "execution_count": 68,
   "id": "7a2162dc",
   "metadata": {},
   "outputs": [
    {
     "name": "stdout",
     "output_type": "stream",
     "text": [
      "Fibonacci sequence (5 terms):\n",
      "0 1 1 2 3 \n",
      "\n",
      "Fibonacci sequence (10 terms):\n",
      "[0, 1, 1, 2, 3, 5, 8, 13, 21, 34]\n",
      "\n",
      "Fibonacci sequence (1 term):\n",
      "0\n",
      "\n",
      "Fibonacci sequence (0 terms):\n",
      "No terms to generate.\n"
     ]
    }
   ],
   "source": [
    "class FibonacciIterator:\n",
    "    \"\"\"\n",
    "    An iterator class that generates the Fibonacci sequence\n",
    "    up to a specified number of terms.\n",
    "    \"\"\"\n",
    "    def __init__(self, num_terms):\n",
    "        if num_terms < 0:\n",
    "            raise ValueError(\"Number of terms must be non-negative.\")\n",
    "        self.num_terms = num_terms\n",
    "        self.count = 0\n",
    "        self.a = 0\n",
    "        self.b = 1\n",
    "\n",
    "    def __iter__(self):\n",
    "        # Return self, as the class itself is the iterator\n",
    "        return self\n",
    "\n",
    "    def __next__(self):\n",
    "        if self.count < self.num_terms:\n",
    "            if self.count == 0:\n",
    "                self.count += 1\n",
    "                return 0\n",
    "            elif self.count == 1:\n",
    "                self.count += 1\n",
    "                return 1\n",
    "            else:\n",
    "                # Calculate the next Fibonacci number\n",
    "                next_fib = self.a + self.b\n",
    "                self.a = self.b\n",
    "                self.b = next_fib\n",
    "                self.count += 1\n",
    "                return next_fib\n",
    "        else:\n",
    "            # Stop iteration when all terms are generated\n",
    "            raise StopIteration\n",
    "\n",
    "# Example Usage:\n",
    "print(\"Fibonacci sequence (5 terms):\")\n",
    "fib_iter1 = FibonacciIterator(5)\n",
    "for num in fib_iter1:\n",
    "    print(num, end=\" \") # Output: 0 1 1 2 3\n",
    "print()\n",
    "\n",
    "print(\"\\nFibonacci sequence (10 terms):\")\n",
    "fib_iter2 = FibonacciIterator(10)\n",
    "print(list(fib_iter2)) # Output: [0, 1, 1, 2, 3, 5, 8, 13, 21, 34]\n",
    "\n",
    "print(\"\\nFibonacci sequence (1 term):\")\n",
    "fib_iter3 = FibonacciIterator(1)\n",
    "print(next(fib_iter3)) # Output: 0\n",
    "\n",
    "print(\"\\nFibonacci sequence (0 terms):\")\n",
    "fib_iter4 = FibonacciIterator(0)\n",
    "try:\n",
    "    print(next(fib_iter4))\n",
    "except StopIteration:\n",
    "    print(\"No terms to generate.\")"
   ]
  },
  {
   "cell_type": "markdown",
   "id": "d19c71b2",
   "metadata": {},
   "source": [
    "# 6. Write a generator function in Python that yields the powers of 2 up to a given exponent."
   ]
  },
  {
   "cell_type": "code",
   "execution_count": 69,
   "id": "87ec59bf",
   "metadata": {},
   "outputs": [
    {
     "name": "stdout",
     "output_type": "stream",
     "text": [
      "Powers of 2 up to exponent 5:\n",
      "1 2 4 8 16 32 \n",
      "\n",
      "Powers of 2 up to exponent 0:\n",
      "1 \n",
      "\n",
      "Powers of 2 up to exponent 8 (as a list):\n",
      "[1, 2, 4, 8, 16, 32, 64, 128, 256]\n"
     ]
    }
   ],
   "source": [
    "def powers_of_2_generator(max_exponent):\n",
    "    \"\"\"\n",
    "    A generator function that yields powers of 2 up to a given exponent.\n",
    "\n",
    "    Args:\n",
    "        max_exponent (int): The maximum exponent for the power of 2.\n",
    "    \"\"\"\n",
    "    if max_exponent < 0:\n",
    "        raise ValueError(\"Max exponent must be non-negative.\")\n",
    "    for i in range(max_exponent + 1):\n",
    "        yield 2 ** i\n",
    "\n",
    "# Example Usage:\n",
    "print(\"Powers of 2 up to exponent 5:\")\n",
    "for power in powers_of_2_generator(5):\n",
    "    print(power, end=\" \") # Output: 1 2 4 8 16 32\n",
    "print()\n",
    "\n",
    "print(\"\\nPowers of 2 up to exponent 0:\")\n",
    "for power in powers_of_2_generator(0):\n",
    "    print(power, end=\" \") # Output: 1\n",
    "print()\n",
    "\n",
    "print(\"\\nPowers of 2 up to exponent 8 (as a list):\")\n",
    "powers_list = list(powers_of_2_generator(8))\n",
    "print(powers_list) # Output: [1, 2, 4, 8, 16, 32, 64, 128, 256]"
   ]
  },
  {
   "cell_type": "markdown",
   "id": "ff9ee503",
   "metadata": {},
   "source": [
    "# 7. Implement a generator function that reads a file line by line and yields each line as a string."
   ]
  },
  {
   "cell_type": "code",
   "execution_count": 70,
   "id": "056c0f2f",
   "metadata": {},
   "outputs": [
    {
     "name": "stdout",
     "output_type": "stream",
     "text": [
      "Reading content from 'my_test_file.txt':\n",
      "Line: 'This is line 1.'\n",
      "Line: 'This is line 2.'\n",
      "Line: 'And line 3, with some extra text.'\n",
      "Line: 'Last line.'\n",
      "\n",
      "Attempting to read a non-existent file:\n",
      "Error: File not found at 'non_existent_file.txt'\n"
     ]
    }
   ],
   "source": [
    "import os\n",
    "\n",
    "def read_file_lines(filepath):\n",
    "    \"\"\"\n",
    "    A generator function that reads a file line by line and yields each line as a string.\n",
    "\n",
    "    Args:\n",
    "        filepath (str): The path to the file to read.\n",
    "\n",
    "    Yields:\n",
    "        str: Each line from the file.\n",
    "    \"\"\"\n",
    "    try:\n",
    "        with open(filepath, 'r', encoding='utf-8') as f:\n",
    "            for line in f:\n",
    "                yield line.strip('\\n') # Yield line, removing trailing newline characters\n",
    "    except FileNotFoundError:\n",
    "        print(f\"Error: File not found at '{filepath}'\")\n",
    "    except Exception as e:\n",
    "        print(f\"An error occurred: {e}\")\n",
    "\n",
    "# Example Usage:\n",
    "# 1. Create a dummy file for testing\n",
    "file_content = \"\"\"This is line 1.\n",
    "This is line 2.\n",
    "And line 3, with some extra text.\n",
    "Last line.\n",
    "\"\"\"\n",
    "test_file_name = \"my_test_file.txt\"\n",
    "with open(test_file_name, 'w', encoding='utf-8') as f:\n",
    "    f.write(file_content)\n",
    "\n",
    "print(f\"Reading content from '{test_file_name}':\")\n",
    "for line in read_file_lines(test_file_name):\n",
    "    print(f\"Line: '{line}'\")\n",
    "\n",
    "print(\"\\nAttempting to read a non-existent file:\")\n",
    "for line in read_file_lines(\"non_existent_file.txt\"):\n",
    "    print(line) # This won't print anything, just the error message above\n",
    "\n",
    "# Clean up the dummy file\n",
    "if os.path.exists(test_file_name):\n",
    "    os.remove(test_file_name)"
   ]
  },
  {
   "cell_type": "markdown",
   "id": "5874b380",
   "metadata": {},
   "source": [
    "# 8. Use a lambda function in Python to sort a list of tuples based on the second element of each tuple."
   ]
  },
  {
   "cell_type": "code",
   "execution_count": 71,
   "id": "0b98cecd",
   "metadata": {},
   "outputs": [
    {
     "name": "stdout",
     "output_type": "stream",
     "text": [
      "Original list of tuples: [('apple', 5), ('banana', 2), ('cherry', 8), ('date', 1)]\n",
      "Sorted by second element: [('date', 1), ('banana', 2), ('apple', 5), ('cherry', 8)]\n",
      "\n",
      "Original data: [('Zoe', 1.65), ('Alice', 1.7), ('Bob', 1.82), ('Charlie', 1.75)]\n",
      "Sorted by height: [('Zoe', 1.65), ('Alice', 1.7), ('Charlie', 1.75), ('Bob', 1.82)]\n"
     ]
    }
   ],
   "source": [
    "list_of_tuples = [('apple', 5), ('banana', 2), ('cherry', 8), ('date', 1)]\n",
    "\n",
    "# Sort the list of tuples based on the second element (index 1)\n",
    "# The lambda function `lambda item: item[1]` specifies the sorting key.\n",
    "sorted_list = sorted(list_of_tuples, key=lambda item: item[1])\n",
    "\n",
    "print(f\"Original list of tuples: {list_of_tuples}\")\n",
    "print(f\"Sorted by second element: {sorted_list}\")\n",
    "\n",
    "# Another example with mixed data types (as long as second element is comparable)\n",
    "data = [('Zoe', 1.65), ('Alice', 1.70), ('Bob', 1.82), ('Charlie', 1.75)]\n",
    "sorted_data = sorted(data, key=lambda person: person[1])\n",
    "print(f\"\\nOriginal data: {data}\")\n",
    "print(f\"Sorted by height: {sorted_data}\")"
   ]
  },
  {
   "cell_type": "markdown",
   "id": "adceb5d2",
   "metadata": {},
   "source": [
    "# 9. Write a Python program that uses map() to convert a list of temperatures from Celsius to Fahrenheit."
   ]
  },
  {
   "cell_type": "code",
   "execution_count": 72,
   "id": "ff4ece5a",
   "metadata": {},
   "outputs": [
    {
     "name": "stdout",
     "output_type": "stream",
     "text": [
      "Celsius temperatures: [0, 10, 25, 37, 100, -5]\n",
      "Fahrenheit temperatures: [32.0, 50.0, 77.0, 98.6, 212.0, 23.0]\n",
      "\n",
      "Another set of Celsius temps: [15, 20, 30]\n",
      "Corresponding Fahrenheit temps: [59.0, 68.0, 86.0]\n"
     ]
    }
   ],
   "source": [
    "def celsius_to_fahrenheit(celsius):\n",
    "    \"\"\"Converts a temperature from Celsius to Fahrenheit.\"\"\"\n",
    "    return (celsius * 9/5) + 32\n",
    "\n",
    "celsius_temperatures = [0, 10, 25, 37, 100, -5]\n",
    "\n",
    "# Use map() to apply the conversion function to each temperature\n",
    "fahrenheit_temperatures = list(map(celsius_to_fahrenheit, celsius_temperatures))\n",
    "\n",
    "print(f\"Celsius temperatures: {celsius_temperatures}\")\n",
    "print(f\"Fahrenheit temperatures: {fahrenheit_temperatures}\")\n",
    "\n",
    "# Example with a lambda function for map()\n",
    "celsius_temps_2 = [15, 20, 30]\n",
    "fahrenheit_temps_2 = list(map(lambda c: (c * 9/5) + 32, celsius_temps_2))\n",
    "print(f\"\\nAnother set of Celsius temps: {celsius_temps_2}\")\n",
    "print(f\"Corresponding Fahrenheit temps: {fahrenheit_temps_2}\")"
   ]
  },
  {
   "cell_type": "markdown",
   "id": "09f30acc",
   "metadata": {},
   "source": [
    "# 10. Create a Python program that uses filter() to remove all the vowels from a given string."
   ]
  },
  {
   "cell_type": "code",
   "execution_count": 73,
   "id": "938bca74",
   "metadata": {},
   "outputs": [
    {
     "name": "stdout",
     "output_type": "stream",
     "text": [
      "Original string: 'Hello World'\n",
      "String without vowels: 'Hll Wrld'\n",
      "\n",
      "Original string: 'Python Programming'\n",
      "String without vowels: 'Pythn Prgrmmng'\n",
      "\n",
      "Original string: 'AEIOUaeiou'\n",
      "String without vowels: ''\n",
      "\n",
      "Original string: 'Rhythm'\n",
      "String without vowels: 'Rhythm'\n"
     ]
    }
   ],
   "source": [
    "def remove_vowels_filter(input_string):\n",
    "    \"\"\"\n",
    "    Removes all vowels (case-insensitive) from a given string using filter().\n",
    "\n",
    "    Args:\n",
    "        input_string (str): The string to process.\n",
    "\n",
    "    Returns:\n",
    "        str: The string with vowels removed.\n",
    "    \"\"\"\n",
    "    vowels = \"aeiouAEIOU\"\n",
    "    # The lambda function returns True for characters that are NOT vowels\n",
    "    # filter() keeps only those characters for which the lambda returns True\n",
    "    filtered_chars = filter(lambda char: char not in vowels, input_string)\n",
    "    return \"\".join(filtered_chars)\n",
    "\n",
    "# Example Usage:\n",
    "my_string1 = \"Hello World\"\n",
    "string_without_vowels1 = remove_vowels_filter(my_string1)\n",
    "print(f\"Original string: '{my_string1}'\")\n",
    "print(f\"String without vowels: '{string_without_vowels1}'\")\n",
    "\n",
    "my_string2 = \"Python Programming\"\n",
    "string_without_vowels2 = remove_vowels_filter(my_string2)\n",
    "print(f\"\\nOriginal string: '{my_string2}'\")\n",
    "print(f\"String without vowels: '{string_without_vowels2}'\")\n",
    "\n",
    "my_string3 = \"AEIOUaeiou\"\n",
    "string_without_vowels3 = remove_vowels_filter(my_string3)\n",
    "print(f\"\\nOriginal string: '{my_string3}'\")\n",
    "print(f\"String without vowels: '{string_without_vowels3}'\")\n",
    "\n",
    "my_string4 = \"Rhythm\"\n",
    "string_without_vowels4 = remove_vowels_filter(my_string4)\n",
    "print(f\"\\nOriginal string: '{my_string4}'\")\n",
    "print(f\"String without vowels: '{string_without_vowels4}'\")"
   ]
  },
  {
   "cell_type": "markdown",
   "id": "236889ce",
   "metadata": {},
   "source": [
    "# Question 11"
   ]
  },
  {
   "cell_type": "code",
   "execution_count": 74,
   "id": "57f6bbb6",
   "metadata": {},
   "outputs": [
    {
     "name": "stdout",
     "output_type": "stream",
     "text": [
      "Processed Orders (Order Number, Final Price):\n",
      "(34587, 163.8)\n",
      "(98762, 284.0)\n",
      "(77226, 108.85000000000001)\n",
      "(88112, 84.97)\n"
     ]
    }
   ],
   "source": [
    "# The input data as described in the image\n",
    "# Each sublist represents an order: [Order Number, Book Title and Author, Quantity, Price per Item]\n",
    "orders_data = [\n",
    "    [34587, \"Learning Python, Mark Lutz\", 4, 40.95],\n",
    "    [98762, \"Programming Python, Mark Lutz\", 5, 56.80],\n",
    "    [77226, \"Head First Python, Paul Barry\", 3, 32.95],\n",
    "    [88112, \"Einführung in Python3, Bernd Klein\", 3, 24.99]\n",
    "]\n",
    "\n",
    "# Use a lambda function with map to process each order\n",
    "# The lambda function takes an 'order' sublist as input.\n",
    "# - order[0] is the Order Number\n",
    "# - order[2] is the Quantity\n",
    "# - order[3] is the Price per Item\n",
    "processed_orders = list(map(lambda order:\n",
    "    (\n",
    "        order[0], # Order Number\n",
    "        (order[2] * order[3]) + (10 if (order[2] * order[3]) < 100 else 0) # Calculated Price with surcharge\n",
    "    ),\n",
    "    orders_data\n",
    "))\n",
    "\n",
    "# Print the result\n",
    "print(\"Processed Orders (Order Number, Final Price):\")\n",
    "for order_tuple in processed_orders:\n",
    "    print(order_tuple)\n",
    "\n",
    "# Expected Output Calculation for verification:\n",
    "# 34587: 4 * 40.95 = 163.80. 163.80 >= 100, no surcharge. -> (34587, 163.80)\n",
    "# 98762: 5 * 56.80 = 284.00. 284.00 >= 100, no surcharge. -> (98762, 284.00)\n",
    "# 77226: 3 * 32.95 = 98.85. 98.85 < 100, add 10. -> (77226, 98.85 + 10 = 108.85)\n",
    "# 88112: 3 * 24.99 = 74.97. 74.97 < 100, add 10. -> (88112, 74.97 + 10 = 84.97)"
   ]
  },
  {
   "cell_type": "code",
   "execution_count": null,
   "id": "0f329144",
   "metadata": {},
   "outputs": [],
   "source": []
  }
 ],
 "metadata": {
  "kernelspec": {
   "display_name": "Python 3 (ipykernel)",
   "language": "python",
   "name": "python3"
  },
  "language_info": {
   "codemirror_mode": {
    "name": "ipython",
    "version": 3
   },
   "file_extension": ".py",
   "mimetype": "text/x-python",
   "name": "python",
   "nbconvert_exporter": "python",
   "pygments_lexer": "ipython3",
   "version": "3.9.13"
  }
 },
 "nbformat": 4,
 "nbformat_minor": 5
}
