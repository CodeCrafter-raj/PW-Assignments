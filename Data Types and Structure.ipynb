{
 "cells": [
  {
   "cell_type": "markdown",
   "id": "c17d75c5",
   "metadata": {},
   "source": [
    "# Q1.What are data structures, and why are they important3"
   ]
  },
  {
   "cell_type": "markdown",
   "id": "ee0d8b89",
   "metadata": {},
   "source": [
    "1.Data structures are organized ways of storing and managing data in a computer program. \n",
    "2.They define the relationships between data elements and the operations that can be performed on them. \n",
    "3.Examples include arrays, linked lists, trees, graphs, and hash tables, each designed for specific tasks. \n",
    "4.Data structures are not programming languages; they are a set of rules or algorithms that can be used in any programming language to organize data. \n",
    "5.They are often referred to as Abstract Data Types (ADTs) because they represent a collection of data and the operations that can be performed on that data"
   ]
  },
  {
   "cell_type": "markdown",
   "id": "b74c6b1e",
   "metadata": {},
   "source": [
    "Why are Data Structures Important?\n",
    "Efficiency:\n",
    "Data structures allow programs to efficiently store, retrieve, and manipulate data, leading to faster execution and reduced resource consumption. \n",
    "\n",
    "Organization:\n",
    "They provide a structured way to manage data, making it easier to understand and work with, especially when dealing with large datasets. \n",
    "\n",
    "Readability:\n",
    "Well-chosen data structures can make code more readable and maintainable. \n",
    "\n",
    "Algorithm Development:\n",
    "Many algorithms rely on specific data structures to perform effectively. For example, search algorithms often use hash tables or trees for efficient searching. \n",
    "\n",
    "Problem Solving:\n",
    "Data structures are essential for solving various problems in computer science, including data storage, indexing, and network routing. \n",
    "\n",
    "Data Management:\n",
    "Data structures are crucial for managing large amounts of data in databases and other systems, enabling efficient storage and retrieval"
   ]
  },
  {
   "cell_type": "markdown",
   "id": "68e46d9a",
   "metadata": {},
   "source": [
    "# Q2.Explain the difference between mutable and immutable data types with examples."
   ]
  },
  {
   "cell_type": "markdown",
   "id": "39b690b9",
   "metadata": {},
   "source": [
    "Mutable data types are those whose values can be changed after they are created, while immutable data types cannot be altered once they are set.\n",
    "Examples of mutable data types include lists, dictionaries, and sets, while strings and tuples are examples of immutable data types. "
   ]
  },
  {
   "cell_type": "raw",
   "id": "e5315537",
   "metadata": {},
   "source": [
    "Mutable Data Types:\n",
    "Definition: Objects whose values can be modified after they are created. \n",
    "Examples:\n",
    "Lists: Can have elements added, removed, or modified. \n",
    "Dictionaries: Can have key-value pairs added, removed, or modified. \n",
    "Sets: Can have elements added or removed"
   ]
  },
  {
   "cell_type": "raw",
   "id": "7426b4bd",
   "metadata": {},
   "source": [
    "Immutable Data Types:\n",
    "Definition: Objects whose values cannot be changed once they are created. \n",
    "Examples:\n",
    "Strings: Cannot be modified after creation. \n",
    "Tuples: Cannot have elements added, removed, or modified after creation. "
   ]
  },
  {
   "cell_type": "markdown",
   "id": "5c3f944d",
   "metadata": {},
   "source": [
    "# Q3. What are the main differences between lists and tuples in Python3"
   ]
  },
  {
   "cell_type": "raw",
   "id": "d6f38d21",
   "metadata": {},
   "source": [
    "In Python 3, lists and tuples are both used to store collections of items, but they differ significantly in their mutability and usage.\n",
    "\n",
    "Lists are mutable, meaning their contents can be changed after creation, while tuples are immutable, meaning their contents \n",
    "cannot be changed after creation.\n",
    "\n",
    "Lists are used when flexibility and modification are needed, while tuples are used when data integrity\n",
    "and performance are prioritized. "
   ]
  },
  {
   "cell_type": "raw",
   "id": "c1f1de00",
   "metadata": {},
   "source": [
    "Mutability\n",
    "Lists are mutable, meaning elements can be added, removed, or modified after creation.\n",
    "Tuples are immutable, meaning their elements cannot be changed after creation.\n",
    "\n",
    "\n",
    "Usage\n",
    "Lists are versatile and used for dynamic collections where modifications are common. \n",
    "Tuples are often used for data integrity, as they ensure that the data remains unchanged after creation. \n",
    "\n",
    "\n",
    "Performance\n",
    "Tuples are generally faster and more memory-efficient than lists because their immutability allows for optimizations. "
   ]
  },
  {
   "cell_type": "markdown",
   "id": "cc8d624c",
   "metadata": {},
   "source": [
    "# Q4 Describe how dictionaries store data"
   ]
  },
  {
   "cell_type": "raw",
   "id": "f65f5dbf",
   "metadata": {},
   "source": [
    "Dictionaries, in essence, store data using a key-value pair system. \n",
    "Each piece of data is associated with a unique key, allowing you to quickly retrieve the associated value."
   ]
  },
  {
   "cell_type": "markdown",
   "id": "f403f5c2",
   "metadata": {},
   "source": [
    "# Q5.Why might you use a set instead of a list in Python3"
   ]
  },
  {
   "cell_type": "raw",
   "id": "944a26a4",
   "metadata": {},
   "source": [
    "Sets and lists are both used to store collections of items in Python, but they have different characteristics that make them suitable for different situations. \n",
    "Here's why you might use a set instead of a list: "
   ]
  },
  {
   "cell_type": "raw",
   "id": "daf93a1e",
   "metadata": {},
   "source": [
    "Uniqueness\n",
    "Sets do not allow duplicate elements, while lists do. \n",
    "If you need to ensure that each element in a collection is unique, a set is the appropriate choice.\n",
    "\n",
    "Membership testing\n",
    "Checking if an element is present in a set is significantly faster than checking if it's in a list, especially for large collections.\n",
    "Sets use a hash table implementation, allowing for near-constant time complexity for membership testing (O(1)), while lists require linear time complexity (O(n)).\n",
    "\n",
    "\n",
    "Set operations\n",
    "Sets provide built-in support for mathematical set operations like union, intersection, and difference.\n",
    "If you need to perform these operations, using sets is more efficient and concise than using lists."
   ]
  },
  {
   "cell_type": "raw",
   "id": "695fcbe5",
   "metadata": {},
   "source": [
    "Immutability\n",
    "Sets can contain only immutable elements like numbers, strings, and tuples. \n",
    "If you need to store mutable objects, a list is necessary.\n",
    "\n",
    "Removing Duplicates\n",
    "You can efficiently remove duplicate elements from a list by converting it to a set and then back to a list"
   ]
  },
  {
   "cell_type": "markdown",
   "id": "1fd8a972",
   "metadata": {},
   "source": [
    "# Q6.What is a string in Python, and how is it different from a list3"
   ]
  },
  {
   "cell_type": "raw",
   "id": "3c72c0e8",
   "metadata": {},
   "source": [
    "In Python, a string is a sequence of characters.\n",
    "These characters can be letters, numbers, symbols, or even spaces.\n",
    "Strings are used to represent text. You can create a string by enclosing a sequence of characters within single quotes ('...'), double quotes (\"...\"), or triple quotes ('''...''' or \"\"\"...\"\"\")."
   ]
  },
  {
   "cell_type": "raw",
   "id": "4849d64b",
   "metadata": {},
   "source": [
    "Key Differences Between Strings and Lists\n",
    "\n",
    "1. Mutability\n",
    "Strings are immutable: Once a string is created, you cannot change its individual characters.\n",
    "If you need to modify a string, you have to create a new string with the desired changes.\n",
    "\n",
    "Lists are mutable: You can change the elements of a list after it's created. You can add, remove, or modify elements within a list.\n",
    "\n",
    "2. Data Type of Elements\n",
    "Strings: Contain only characters.\n",
    "\n",
    "Lists: Can contain elements of any data type, including other lists, tuples, dictionaries, etc. This makes lists more versatile for storing collections of diverse data.\n",
    "\n",
    "\n",
    "3. Memory Efficiency\n",
    "Strings: Generally more memory-efficient for storing sequences of characters.\n",
    "\n",
    "Lists: Can have a larger memory footprint, especially when they contain a large number of objects, due to the overhead of storing type information and managing mutability."
   ]
  },
  {
   "cell_type": "markdown",
   "id": "aefd86aa",
   "metadata": {},
   "source": [
    "# Q7. How do tuples ensure data integrity in Python3?"
   ]
  },
  {
   "cell_type": "raw",
   "id": "5758d284",
   "metadata": {},
   "source": [
    "In Python 3, tuples ensure data integrity primarily through their immutability.\n",
    "This means that once a tuple is created, its elements cannot be changed or modified.\n",
    "This characteristic guarantees that the data stored within the tuple remains consistent and reliable throughout its lifetime, protecting it from accidental or intentional alterations."
   ]
  },
  {
   "cell_type": "markdown",
   "id": "bbc1405f",
   "metadata": {},
   "source": [
    "# Q8.What is a hash table, and how does it relate to dictionaries in Python3?"
   ]
  },
  {
   "cell_type": "raw",
   "id": "19bc7646",
   "metadata": {},
   "source": [
    "A hash table, also known as a hash map, is a data structure that implements an associative array abstract data type, a structure that can map keys to values.\n",
    "A hash table uses a hash function to compute an index, or hash code, into an array of buckets or slots, from which the desired value can be found."
   ]
  },
  {
   "cell_type": "raw",
   "id": "97d8dc15",
   "metadata": {},
   "source": [
    "In Python 3, dictionaries are implemented as hash tables. \n",
    "This is a fundamental design choice that gives dictionaries their characteristic performance properties."
   ]
  },
  {
   "cell_type": "markdown",
   "id": "c52be6dd",
   "metadata": {},
   "source": [
    "# Q9.Can lists contain different data types in Python3"
   ]
  },
  {
   "cell_type": "raw",
   "id": "fa3164e9",
   "metadata": {},
   "source": [
    "Yes, lists in Python can contain elements of different data types. This is one of the features that makes Python lists very flexible.\n",
    "A single list can hold integers, floats, strings, booleans, and even other lists, tuples, or dictionaries"
   ]
  },
  {
   "cell_type": "markdown",
   "id": "32692341",
   "metadata": {},
   "source": [
    "# Q10. Explain why strings are immutable in PythonP"
   ]
  },
  {
   "cell_type": "raw",
   "id": "bcb76238",
   "metadata": {},
   "source": [
    "In Python, strings are immutable because of several key reasons tied to efficiency, security, and design principles\n",
    "\n",
    "Efficiency:\n",
    "Immutability allows Python to perform optimizations like string interning, where identical string literals are stored only once in memory. If strings were mutable, this optimization would not be possible, leading to increased memory usage.\n",
    "\n",
    "Security:\n",
    "Immutable strings prevent accidental modification of string data, which is crucial in multi-threaded environments and when dealing with sensitive information. It ensures that a string's value remains consistent throughout its lifecycle.\n",
    "\n",
    "Dictionary Keys:\n",
    "Immutable objects, like strings, can be used as keys in dictionaries. If strings were mutable, their hash values could change, making them unsuitable as dictionary keys.\n",
    "\n",
    "Method Chaining:\n",
    "Methods on immutable objects return new objects, allowing for easy method chaining without modifying the original string.\n",
    "\n",
    "Simpler Memory Management:\n",
    "With immutable strings, memory allocation is simplified. Python doesn't need to guess the length of the string beforehand, as it can simply create a new string when modifications are needed. This also prevents buffer overflows, a common security vulnerability in languages like C."
   ]
  },
  {
   "cell_type": "markdown",
   "id": "102d15c5",
   "metadata": {},
   "source": [
    "# Q11 What advantages do dictionaries offer over lists for certain tasks3."
   ]
  },
  {
   "cell_type": "raw",
   "id": "58d6bfea",
   "metadata": {},
   "source": [
    "Dictionaries offer significant advantages over lists when:\n",
    "\n",
    "Fast Lookups by Key: Dictionaries provide average O(1) (constant time) complexity for retrieving values using their unique keys, which is much faster than the O(N) (linear time) search required in lists.\n",
    "\n",
    "Mapping Relationships: They are ideal for representing data where each item has a unique identifier or \"label\" (the key) associated with a value (e.g., mapping usernames to user data, product IDs to product details).\n",
    "\n",
    "No Positional Order Required: If the order of elements doesn't matter and you primarily access data by a meaningful identifier rather than by numerical index, dictionaries are more suitable."
   ]
  },
  {
   "cell_type": "markdown",
   "id": "0c8649e5",
   "metadata": {},
   "source": [
    "# Q12.Describe a scenario where using a tuple would be preferable over a list."
   ]
  },
  {
   "cell_type": "raw",
   "id": "b8b12a2a",
   "metadata": {},
   "source": [
    "A tuple would be preferable over a list in a scenario where you need to represent a fixed collection of related items that should not change, especially when these items logically form a single entity."
   ]
  },
  {
   "cell_type": "raw",
   "id": "d0228ab7",
   "metadata": {},
   "source": [
    "Scenario Example: Representing a Geographic Coordinate\n",
    "    \n",
    "    Imagine you're storing geographic coordinates (latitude, longitude).\n",
    "\n",
    "Using a List:\n",
    "\n",
    "Python\n",
    "\n",
    "coordinate_list = [28.6139, 77.2090] # Delhi, India\n",
    "While this works, a list implies that elements could be added, removed, or changed. Someone might accidentally do coordinate_list.append(10) or coordinate_list[0] = 50.0, which would break the meaning of a coordinate."
   ]
  },
  {
   "cell_type": "markdown",
   "id": "a4ba0c60",
   "metadata": {},
   "source": [
    "# Q13. How do sets handle duplicate values in Python3."
   ]
  },
  {
   "cell_type": "raw",
   "id": "16c30209",
   "metadata": {},
   "source": [
    "In Python 3, sets are designed to store only unique elements. When attempting to add a duplicate value to a set, it is automatically ignored, and the set remains unchanged. This behavior ensures that a set always contains distinct elements. The characteristic of not allowing duplicates is a fundamental property of sets in Python."
   ]
  },
  {
   "cell_type": "code",
   "execution_count": 70,
   "id": "c4547bc4",
   "metadata": {},
   "outputs": [],
   "source": [
    "#Q14.How does the “in” keyword work differently for lists and dictionaries3"
   ]
  },
  {
   "cell_type": "raw",
   "id": "bb59a33a",
   "metadata": {},
   "source": [
    "The \"in\" keyword in Python operates differently on lists and dictionaries. For lists, it checks if a value is present as an element within the list. For dictionaries, it checks if a key is present in the dictionary's keys\n",
    "\n"
   ]
  },
  {
   "cell_type": "code",
   "execution_count": 71,
   "id": "1b2a2910",
   "metadata": {},
   "outputs": [],
   "source": [
    "#Q15.Can you modify the elements of a tuple? Explain why or why notP"
   ]
  },
  {
   "cell_type": "raw",
   "id": "c0388fb3",
   "metadata": {},
   "source": [
    "No, you cannot directly modify the elements of a tuple in Python after it's been created.\n",
    "Tuples are immutable, meaning their contents cannot be changed once they are defined. Trying to modify a tuple will result in a TypeError. \n",
    "\n",
    "\n",
    "Why tuples are immutable: \n",
    "Data Integrity:\n",
    "Immutability helps ensure that data is not accidentally changed, which is useful in scenarios where the data should be preserved. \n",
    "\n",
    "Hashing:\n",
    "Immutable objects can be used as keys in dictionaries, which requires them to be hashable. If a tuple's elements could be modified, it would no longer be hashable, making it unsuitable for use as a dictionary key. \n",
    "\n",
    "Performance:\n",
    "Immutability can sometimes lead to performance improvements because the object can be safely cached and reused without the risk of modification. \n",
    "\n",
    "How to \"modify\" a tuple (or create a modified version): \n",
    "While you can't directly modify a tuple, you can achieve the desired effect by creating a new tuple with the changes you want: \n",
    "1. Convert to a list:\n",
    "Convert the tuple to a mutable list, make changes to the list, and then convert the list back to a tuple. \n",
    "2. Slicing and concatenation:\n",
    "Create a new tuple by combining portions of the original tuple with new elements. "
   ]
  },
  {
   "cell_type": "markdown",
   "id": "03019d04",
   "metadata": {},
   "source": [
    "# Q16.What is a nested dictionary, and give an example of its use case3."
   ]
  },
  {
   "cell_type": "raw",
   "id": "165c6f9f",
   "metadata": {},
   "source": [
    "A nested dictionary is a dictionary where the values are themselves dictionaries. \n",
    "This allows you to create hierarchical or tree-like data structures, enabling you to organize data in a more complex and structured way.\n",
    "\n",
    "Essentially, you have a dictionary, and for some (or all) of its keys, the associated value is another dictionary, which might contain further dictionaries, and so on.\n",
    "\n",
    "Example Use Case: Storing Student Data with Grades for Multiple Subjects\n",
    "\n",
    "Imagine you want to store information for several students. \n",
    "For each student, you need their age, and then their grades in different subjects. A nested dictionary is perfect for this:\n",
    "\n"
   ]
  },
  {
   "cell_type": "code",
   "execution_count": 72,
   "id": "fbaaa285",
   "metadata": {},
   "outputs": [
    {
     "name": "stdout",
     "output_type": "stream",
     "text": [
      "Alice's age: 16\n",
      "Bob's science grade: 75\n",
      "Charlie's grades: {'math': 70, 'science': 85, 'chemistry': 78}\n",
      "\n",
      "Math Grades:\n",
      "Alice: 95\n",
      "Bob: 80\n",
      "Charlie: 70\n"
     ]
    }
   ],
   "source": [
    "student_data = {\n",
    "    \"Alice\": {\n",
    "        \"age\": 16,\n",
    "        \"grades\": {\n",
    "            \"math\": 95,\n",
    "            \"science\": 88,\n",
    "            \"history\": 92\n",
    "        }\n",
    "    },\n",
    "    \"Bob\": {\n",
    "        \"age\": 17,\n",
    "        \"grades\": {\n",
    "            \"math\": 80,\n",
    "            \"science\": 75,\n",
    "            \"english\": 90\n",
    "        }\n",
    "    },\n",
    "    \"Charlie\": {\n",
    "        \"age\": 16,\n",
    "        \"grades\": {\n",
    "            \"math\": 70,\n",
    "            \"science\": 85,\n",
    "            \"chemistry\": 78\n",
    "        }\n",
    "    }\n",
    "}\n",
    "\n",
    "# Accessing data:\n",
    "\n",
    "# Get Alice's age\n",
    "print(f\"Alice's age: {student_data['Alice']['age']}\")\n",
    "\n",
    "# Get Bob's science grade\n",
    "print(f\"Bob's science grade: {student_data['Bob']['grades']['science']}\")\n",
    "\n",
    "# Get Charlie's grades dictionary\n",
    "print(f\"Charlie's grades: {student_data['Charlie']['grades']}\")\n",
    "\n",
    "# Iterate through all students and their math grades\n",
    "print(\"\\nMath Grades:\")\n",
    "for student_name, details in student_data.items():\n",
    "    if \"math\" in details[\"grades\"]:\n",
    "        print(f\"{student_name}: {details['grades']['math']}\")\n",
    "    else:\n",
    "        print(f\"{student_name}: N/A (Math grade not found)\")"
   ]
  },
  {
   "cell_type": "markdown",
   "id": "adf46a90",
   "metadata": {},
   "source": [
    "# Q17. Describe the time complexity of accessing elements in a dictionary."
   ]
  },
  {
   "cell_type": "raw",
   "id": "24b4f3c8",
   "metadata": {},
   "source": [
    "Accessing elements in a dictionary by its key has an average time complexity of O(1), also known as constant time. This means that the time it takes to retrieve a value is independent of the size of the dictionary. However, in the worst-case scenario, it can be O(n), where n is the number of elements in the dictionary. "
   ]
  },
  {
   "cell_type": "markdown",
   "id": "93db114a",
   "metadata": {},
   "source": [
    "# Q18.In what situations are lists preferred over dictionaries3."
   ]
  },
  {
   "cell_type": "raw",
   "id": "df071dce",
   "metadata": {},
   "source": [
    "Lists are preferred over dictionaries in situations where:\n",
    "\n",
    "Order Matters: When the sequence or position of items is important and needs to be preserved. Lists maintain insertion order, while standard dictionaries (before Python 3.7) did not guarantee order (though they do guarantee insertion order since 3.7, lists are still explicitly ordered by design).\n",
    "Example: A sequence of steps in an algorithm, a playlist of songs, elements in a drawing ordered by layers.\n",
    " \n",
    "Access by Index: When you need to access items primarily by their numerical position (index). Lists provide fast O(1) access by index.\n",
    "Example: Retrieving the 5th item in a collection, iterating through items based on their position.\n",
    "\n",
    "    \n",
    "Collection of Homogeneous Items: When you have a collection of items that are all of the same type or represent similar entities, and you don't need a unique identifier for each.\n",
    "Example: A list of numbers, a list of names, a list of sensor readings.\n",
    "\n",
    "    \n",
    "Allow Duplicate Items: When your collection needs to store multiple identical items. Dictionaries require unique keys.\n",
    "Example: A list of scores from multiple tests (where scores can be repeated), a shopping cart containing multiple instances of the same product.\n",
    "\n",
    "Iteration is Primary: When you primarily intend to iterate through all items in the collection.\n",
    "\n",
    "Example: Processing every item in a dataset, displaying all options in a menu."
   ]
  },
  {
   "cell_type": "markdown",
   "id": "ef4dfc16",
   "metadata": {},
   "source": [
    "# Q19 . Why are dictionaries considered unordered, and how does that affect data retrieval3."
   ]
  },
  {
   "cell_type": "raw",
   "id": "8b73d798",
   "metadata": {},
   "source": [
    "Dictionaries are considered unordered because they are optimized for fast key-based retrieval rather than maintaining insertion order. This means that when you add elements to a dictionary, they are not stored in the order they were added. The order of elements in a dictionary may vary each time you access or iterate through them. \n",
    "\n",
    "Impact on Data Retrieval:\n",
    "\n",
    "No Index-Based Access:\n",
    "Dictionaries do not allow you to access elements by their numerical position (index) like lists or tuples. Instead, you access elements using their unique keys. \n",
    "\n",
    "Unpredictable Order:\n",
    "When you iterate through a dictionary (e.g., using a loop), the order in which the elements are accessed might not match the order in which they were added. \n",
    "\n",
    "Focus on Key-Value Mapping:\n",
    "The primary purpose of dictionaries is to associate keys with values, allowing for efficient lookup and retrieval of data based on those keys. "
   ]
  },
  {
   "cell_type": "markdown",
   "id": "f6c1a47f",
   "metadata": {},
   "source": [
    "# Q20.Explain the difference between a list and a dictionary in terms of data retrieval."
   ]
  },
  {
   "cell_type": "raw",
   "id": "f21651dd",
   "metadata": {},
   "source": [
    "In terms of data retrieval, a dictionary excels at quickly accessing values using unique keys, while a list retrieves values based on their position (index) in a sequence. Lists require searching through elements, while dictionaries use hashing for near-instantaneous lookup, making them significantly faster for accessing data by a specific identifier. \n",
    "\n",
    "Lists:\n",
    "Retrieval: Accessed by index (position), starting from 0. To get a specific element, you need to know its index, and the list might need to be searched sequentially until the element is found.\n",
    "\n",
    "Time Complexity: Finding an element in a list can be slow, particularly for large lists, as it might involve searching through many elements.\n",
    "Example: my_list[2] retrieves the element at index 2. \n",
    "    \n",
    "\n",
    "Dictionaries: \n",
    "Retrieval: Accessed by unique keys. Values are associated with keys, and you can quickly retrieve a value by providing its corresponding key.\n",
    "    \n",
    "Time Complexity: Dictionaries use hashing to map keys to values, enabling very fast lookups (typically constant time).\n",
    "    \n",
    "Example: my_dictionary[\"name\"] retrieves the value associated with the key \"name\". "
   ]
  },
  {
   "cell_type": "markdown",
   "id": "ce213615",
   "metadata": {},
   "source": [
    "# Practical Questions"
   ]
  },
  {
   "cell_type": "markdown",
   "id": "976b6817",
   "metadata": {},
   "source": [
    "# 1.Write a code to create a string with your name and print it"
   ]
  },
  {
   "cell_type": "code",
   "execution_count": 73,
   "id": "359b9cff",
   "metadata": {},
   "outputs": [
    {
     "name": "stdout",
     "output_type": "stream",
     "text": [
      "Raj Singh\n"
     ]
    }
   ],
   "source": [
    "str=\"Raj Singh\"\n",
    "print(str)"
   ]
  },
  {
   "cell_type": "markdown",
   "id": "efa02696",
   "metadata": {},
   "source": [
    "# 2.Write a code to find the length of the string \"Hello World\"."
   ]
  },
  {
   "cell_type": "code",
   "execution_count": 74,
   "id": "3f01958e",
   "metadata": {},
   "outputs": [
    {
     "name": "stdout",
     "output_type": "stream",
     "text": [
      "9\n"
     ]
    }
   ],
   "source": [
    "str=\"PW SKILLS\"\n",
    "print(len(str))"
   ]
  },
  {
   "cell_type": "markdown",
   "id": "8480ddcb",
   "metadata": {},
   "source": [
    "# 3.Write a code to slice the first 3 characters from the string \"Python Programming\"."
   ]
  },
  {
   "cell_type": "code",
   "execution_count": 75,
   "id": "31e27c9a",
   "metadata": {},
   "outputs": [
    {
     "name": "stdout",
     "output_type": "stream",
     "text": [
      "hon Programming\n"
     ]
    }
   ],
   "source": [
    "str1= \"Python Programming\"\n",
    "print(str1[3:])"
   ]
  },
  {
   "cell_type": "markdown",
   "id": "c07a0c00",
   "metadata": {},
   "source": [
    "# Q4.Write a code to convert the string \"hello\" to uppercaseP."
   ]
  },
  {
   "cell_type": "code",
   "execution_count": 76,
   "id": "962bad64",
   "metadata": {},
   "outputs": [
    {
     "name": "stdout",
     "output_type": "stream",
     "text": [
      "HELLO\n"
     ]
    }
   ],
   "source": [
    "str2=\"hello\"\n",
    "print(str2.upper())"
   ]
  },
  {
   "cell_type": "markdown",
   "id": "fe5a363a",
   "metadata": {},
   "source": [
    "# Q5.Write a code to replace the word \"apple\" with \"orange\" in the string \"I like apple\"."
   ]
  },
  {
   "cell_type": "code",
   "execution_count": 77,
   "id": "4c05d427",
   "metadata": {},
   "outputs": [
    {
     "name": "stdout",
     "output_type": "stream",
     "text": [
      "I like orange\n"
     ]
    }
   ],
   "source": [
    "str3=\"I like apple\"\n",
    "print(str3.replace(\"apple\",\"orange\"))"
   ]
  },
  {
   "cell_type": "markdown",
   "id": "e111d28b",
   "metadata": {},
   "source": [
    "# Q6.Write a code to create a list with numbers 1 to 5 and print it."
   ]
  },
  {
   "cell_type": "code",
   "execution_count": 78,
   "id": "836d7b44",
   "metadata": {},
   "outputs": [
    {
     "name": "stdout",
     "output_type": "stream",
     "text": [
      "[1, 2, 3, 4, 5]\n"
     ]
    }
   ],
   "source": [
    "lst=[]\n",
    "for i in range(1,6):\n",
    "    lst.append(i)\n",
    "print(lst)"
   ]
  },
  {
   "cell_type": "markdown",
   "id": "5e51b8a7",
   "metadata": {},
   "source": [
    "# Q7.Write a code to append the number 10 to the list [1, 2, 3, 4]"
   ]
  },
  {
   "cell_type": "code",
   "execution_count": 79,
   "id": "8ac311d7",
   "metadata": {},
   "outputs": [
    {
     "name": "stdout",
     "output_type": "stream",
     "text": [
      "[1, 2, 3, 4, 10]\n"
     ]
    }
   ],
   "source": [
    "lst1=[1,2,3,4]\n",
    "lst1.append(10)\n",
    "print(lst1)"
   ]
  },
  {
   "cell_type": "markdown",
   "id": "19e814af",
   "metadata": {},
   "source": [
    "# Q8.Write a code to remove the number 3 from the list [1, 2, 3, 4, 5]."
   ]
  },
  {
   "cell_type": "code",
   "execution_count": 80,
   "id": "3dec5fbd",
   "metadata": {},
   "outputs": [
    {
     "name": "stdout",
     "output_type": "stream",
     "text": [
      "[1, 2, 4, 5]\n"
     ]
    }
   ],
   "source": [
    "lst2=[1,2,3,4,5]\n",
    "del lst2[2]\n",
    "print(lst2)"
   ]
  },
  {
   "cell_type": "markdown",
   "id": "e80c5d56",
   "metadata": {},
   "source": [
    "# Q9.Write a code to access the second element in the list ['a', 'b', 'c', 'd']."
   ]
  },
  {
   "cell_type": "code",
   "execution_count": 81,
   "id": "bc2eaa1b",
   "metadata": {},
   "outputs": [
    {
     "name": "stdout",
     "output_type": "stream",
     "text": [
      "b\n"
     ]
    }
   ],
   "source": [
    "lst3=['a','b','c','d']\n",
    "print(lst3[1])"
   ]
  },
  {
   "cell_type": "markdown",
   "id": "b2bab6f6",
   "metadata": {},
   "source": [
    "# Q10.Write a code to reverse the list [10, 20, 30, 40, 50]."
   ]
  },
  {
   "cell_type": "code",
   "execution_count": 82,
   "id": "4be5f34e",
   "metadata": {},
   "outputs": [
    {
     "name": "stdout",
     "output_type": "stream",
     "text": [
      "[50, 40, 30, 20, 10]\n"
     ]
    }
   ],
   "source": [
    "my_list = [10, 20, 30, 40, 50]\n",
    "my_list.reverse()\n",
    "print(my_list)"
   ]
  },
  {
   "cell_type": "code",
   "execution_count": 83,
   "id": "b94a3018",
   "metadata": {},
   "outputs": [
    {
     "name": "stdout",
     "output_type": "stream",
     "text": [
      "[50, 40, 30, 20, 10]\n",
      "[10, 20, 30, 40, 50]\n"
     ]
    }
   ],
   "source": [
    "my_list = [10, 20, 30, 40, 50]\n",
    "reversed_list = my_list[::-1]\n",
    "print(reversed_list)\n",
    "print(my_list) # Original list remains unchanged"
   ]
  },
  {
   "cell_type": "markdown",
   "id": "29691a4b",
   "metadata": {},
   "source": [
    "# Q11. Write a code to create a tuple with the elements 100, 200, 300 and print it."
   ]
  },
  {
   "cell_type": "code",
   "execution_count": 84,
   "id": "a550574e",
   "metadata": {},
   "outputs": [
    {
     "name": "stdout",
     "output_type": "stream",
     "text": [
      "(100, 200, 300)\n"
     ]
    }
   ],
   "source": [
    "my_tuple = (100, 200, 300)\n",
    "print(my_tuple)"
   ]
  },
  {
   "cell_type": "markdown",
   "id": "d66d25ab",
   "metadata": {},
   "source": [
    "# Q12.Write a code to access the second-to-last element of the tuple ('red', 'green', 'blue', 'yellow')."
   ]
  },
  {
   "cell_type": "code",
   "execution_count": 85,
   "id": "96ca4a0e",
   "metadata": {},
   "outputs": [
    {
     "name": "stdout",
     "output_type": "stream",
     "text": [
      "The tuple is: ('red', 'green', 'blue', 'yellow')\n",
      "The second-to-last element is: blue\n"
     ]
    }
   ],
   "source": [
    "my_tuple = ('red', 'green', 'blue', 'yellow')\n",
    "\n",
    "# Access the second-to-last element\n",
    "second_to_last_element = my_tuple[-2]\n",
    "\n",
    "print(f\"The tuple is: {my_tuple}\")\n",
    "print(f\"The second-to-last element is: {second_to_last_element}\")"
   ]
  },
  {
   "cell_type": "markdown",
   "id": "d0c05eb0",
   "metadata": {},
   "source": [
    "# Q13.Write a code to find the minimum number in the tuple (10, 20, 5, 15).\n"
   ]
  },
  {
   "cell_type": "code",
   "execution_count": 86,
   "id": "9c3ea4f8",
   "metadata": {},
   "outputs": [
    {
     "name": "stdout",
     "output_type": "stream",
     "text": [
      "The tuple is: (10, 20, 5, 15)\n",
      "The minimum number is: 5\n"
     ]
    }
   ],
   "source": [
    "my_tuple = (10, 20, 5, 15)\n",
    "\n",
    "minimum_number = min(my_tuple)\n",
    "\n",
    "print(f\"The tuple is: {my_tuple}\")\n",
    "print(f\"The minimum number is: {minimum_number}\")"
   ]
  },
  {
   "cell_type": "markdown",
   "id": "f75d2bc0",
   "metadata": {},
   "source": [
    "# Q14.Write a code to find the index of the element \"cat\" in the tuple ('dog', 'cat', 'rabbit').\n"
   ]
  },
  {
   "cell_type": "code",
   "execution_count": 87,
   "id": "cde6fc66",
   "metadata": {},
   "outputs": [
    {
     "name": "stdout",
     "output_type": "stream",
     "text": [
      "The tuple is: ('dog', 'cat', 'rabbit')\n",
      "The index of 'cat' is: 1\n"
     ]
    }
   ],
   "source": [
    "my_tuple = ('dog', 'cat', 'rabbit')\n",
    "\n",
    "# Find the index of \"cat\"\n",
    "index_of_cat = my_tuple.index('cat')\n",
    "print(f\"The tuple is: {my_tuple}\")\n",
    "print(f\"The index of 'cat' is: {index_of_cat}\")"
   ]
  },
  {
   "cell_type": "markdown",
   "id": "0459d619",
   "metadata": {},
   "source": [
    "# 15. Write a code to create a tuple containing three different fruits and check if \"kiwi\" is in it."
   ]
  },
  {
   "cell_type": "code",
   "execution_count": 88,
   "id": "be57e0bc",
   "metadata": {},
   "outputs": [
    {
     "name": "stdout",
     "output_type": "stream",
     "text": [
      "No, 'kiwi' is not in the tuple.\n",
      "Yes, 'kiwi' is in the tuple (example with kiwi present).\n"
     ]
    }
   ],
   "source": [
    "fruits_tuple = ('apple', 'banana', 'orange')\n",
    "\n",
    "if \"kiwi\" in fruits_tuple:\n",
    "    print(\"Yes, 'kiwi' is in the tuple.\")\n",
    "else:\n",
    "    print(\"No, 'kiwi' is not in the tuple.\")\n",
    "\n",
    "# You can also test with a tuple that contains 'kiwi'\n",
    "fruits_tuple_with_kiwi = ('apple', 'kiwi', 'orange')\n",
    "if \"kiwi\" in fruits_tuple_with_kiwi:\n",
    "    print(\"Yes, 'kiwi' is in the tuple (example with kiwi present).\")"
   ]
  },
  {
   "cell_type": "markdown",
   "id": "dc9d45b2",
   "metadata": {},
   "source": [
    "# 16. Write a code to create a set with the elements 'a', 'b', 'c' and print it."
   ]
  },
  {
   "cell_type": "code",
   "execution_count": 89,
   "id": "ef4aa20f",
   "metadata": {},
   "outputs": [
    {
     "name": "stdout",
     "output_type": "stream",
     "text": [
      "{'b', 'a', 'c'}\n"
     ]
    }
   ],
   "source": [
    "my_set = {'a', 'b', 'c'}\n",
    "print(my_set)"
   ]
  },
  {
   "cell_type": "markdown",
   "id": "b1063f09",
   "metadata": {},
   "source": [
    "# 17. Write a code to clear all elements from the set {1, 2, 3, 4, 5}."
   ]
  },
  {
   "cell_type": "code",
   "execution_count": 90,
   "id": "24aa5e2f",
   "metadata": {},
   "outputs": [
    {
     "name": "stdout",
     "output_type": "stream",
     "text": [
      "Original set: {1, 2, 3, 4, 5}\n",
      "Set after clearing: set()\n"
     ]
    }
   ],
   "source": [
    "my_set_to_clear = {1, 2, 3, 4, 5}\n",
    "print(f\"Original set: {my_set_to_clear}\")\n",
    "my_set_to_clear.clear()\n",
    "print(f\"Set after clearing: {my_set_to_clear}\")"
   ]
  },
  {
   "cell_type": "markdown",
   "id": "8e0908d2",
   "metadata": {},
   "source": [
    "# 18. Write a code to remove the element 4 from the set {1, 2, 3, 4}."
   ]
  },
  {
   "cell_type": "code",
   "execution_count": 91,
   "id": "f3168a6c",
   "metadata": {},
   "outputs": [
    {
     "name": "stdout",
     "output_type": "stream",
     "text": [
      "Original set: {1, 2, 3, 4}\n",
      "Set after removing 4: {1, 2, 3}\n"
     ]
    }
   ],
   "source": [
    "my_set_to_remove = {1, 2, 3, 4}\n",
    "print(f\"Original set: {my_set_to_remove}\")\n",
    "my_set_to_remove.remove(4)\n",
    "print(f\"Set after removing 4: {my_set_to_remove}\")\n",
    "\n"
   ]
  },
  {
   "cell_type": "markdown",
   "id": "4a50972e",
   "metadata": {},
   "source": [
    "# 19. Write a code to find the union of two sets {1, 2, 3} and {3, 4, 5}."
   ]
  },
  {
   "cell_type": "code",
   "execution_count": 92,
   "id": "51d39195",
   "metadata": {},
   "outputs": [
    {
     "name": "stdout",
     "output_type": "stream",
     "text": [
      "Set 1: {1, 2, 3}\n",
      "Set 2: {3, 4, 5}\n",
      "Union of sets: {1, 2, 3, 4, 5}\n"
     ]
    }
   ],
   "source": [
    "set1 = {1, 2, 3}\n",
    "set2 = {3, 4, 5}\n",
    "\n",
    "union_set = set1.union(set2)\n",
    "\n",
    "print(f\"Set 1: {set1}\")\n",
    "print(f\"Set 2: {set2}\")\n",
    "print(f\"Union of sets: {union_set}\")"
   ]
  },
  {
   "cell_type": "markdown",
   "id": "234bbda3",
   "metadata": {},
   "source": [
    "# 20. Write a code to find the intersection of two sets {1, 2, 3} and {2, 3, 4}."
   ]
  },
  {
   "cell_type": "code",
   "execution_count": 93,
   "id": "cff55270",
   "metadata": {},
   "outputs": [
    {
     "name": "stdout",
     "output_type": "stream",
     "text": [
      "Set A: {1, 2, 3}\n",
      "Set B: {2, 3, 4}\n",
      "Intersection of sets: {2, 3}\n"
     ]
    }
   ],
   "source": [
    "set_a = {1, 2, 3}\n",
    "set_b = {2, 3, 4}\n",
    "\n",
    "intersection_set = set_a.intersection(set_b)\n",
    "\n",
    "print(f\"Set A: {set_a}\")\n",
    "print(f\"Set B: {set_b}\")\n",
    "print(f\"Intersection of sets: {intersection_set}\")"
   ]
  },
  {
   "cell_type": "markdown",
   "id": "724571f3",
   "metadata": {},
   "source": [
    "# 21. Write a code to create a dictionary with the keys \"name\", \"age\", and \"city\", and print it."
   ]
  },
  {
   "cell_type": "code",
   "execution_count": 94,
   "id": "95801dce",
   "metadata": {},
   "outputs": [
    {
     "name": "stdout",
     "output_type": "stream",
     "text": [
      "{'name': 'Alice', 'age': 30, 'city': 'New York'}\n"
     ]
    }
   ],
   "source": [
    "my_dict = {\n",
    "    \"name\": \"Alice\",\n",
    "    \"age\": 30,\n",
    "    \"city\": \"New York\"\n",
    "}\n",
    "print(my_dict)"
   ]
  },
  {
   "cell_type": "markdown",
   "id": "841861a5",
   "metadata": {},
   "source": [
    "# 22. Write a code to add a new key-value pair \"country\": \"USA\" to the dictionary {'name': 'John', 'age': 25}."
   ]
  },
  {
   "cell_type": "code",
   "execution_count": 95,
   "id": "80378420",
   "metadata": {},
   "outputs": [
    {
     "name": "stdout",
     "output_type": "stream",
     "text": [
      "{'name': 'John', 'age': 25, 'country': 'USA'}\n"
     ]
    }
   ],
   "source": [
    "person_dict = {'name': 'John', 'age': 25}\n",
    "person_dict['country'] = 'USA'\n",
    "print(person_dict)"
   ]
  },
  {
   "cell_type": "markdown",
   "id": "d40b223f",
   "metadata": {},
   "source": [
    "# 23. Write a code to access the value associated with the key \"name\" in the dictionary {'name': 'Alice', 'age': 30}."
   ]
  },
  {
   "cell_type": "code",
   "execution_count": 96,
   "id": "749ddb7f",
   "metadata": {},
   "outputs": [
    {
     "name": "stdout",
     "output_type": "stream",
     "text": [
      "Alice\n"
     ]
    }
   ],
   "source": [
    "my_dict = {'name': 'Alice', 'age': 30}\n",
    "name_value = my_dict['name']\n",
    "print(name_value)\n"
   ]
  },
  {
   "cell_type": "markdown",
   "id": "2479bf97",
   "metadata": {},
   "source": [
    "# 24. Write a code to remove the key \"age\" from the dictionary {'name': 'Bob', 'age': 22, 'city': 'New York'}."
   ]
  },
  {
   "cell_type": "code",
   "execution_count": 97,
   "id": "0296b01c",
   "metadata": {},
   "outputs": [
    {
     "name": "stdout",
     "output_type": "stream",
     "text": [
      "{'name': 'Bob', 'city': 'New York'}\n"
     ]
    }
   ],
   "source": [
    "person_info = {'name': 'Bob', 'age': 22, 'city': 'New York'}\n",
    "del person_info['age']\n",
    "print(person_info)\n",
    "\n"
   ]
  },
  {
   "cell_type": "markdown",
   "id": "2e322c24",
   "metadata": {},
   "source": [
    "# 25. Write a code to check if the key \"city\" exists in the dictionary {'name': 'Alice', 'city': 'Paris'}."
   ]
  },
  {
   "cell_type": "code",
   "execution_count": 98,
   "id": "98263cf2",
   "metadata": {},
   "outputs": [
    {
     "name": "stdout",
     "output_type": "stream",
     "text": [
      "The key 'city' exists in the dictionary.\n"
     ]
    }
   ],
   "source": [
    "my_dict = {'name': 'Alice', 'city': 'Paris'}\n",
    "\n",
    "if \"city\" in my_dict:\n",
    "    print(\"The key 'city' exists in the dictionary.\")\n",
    "else:\n",
    "    print(\"The key 'city' does not exist in the dictionary.\")"
   ]
  },
  {
   "cell_type": "markdown",
   "id": "96e70114",
   "metadata": {},
   "source": [
    "# 26. Write a code to create a list, a tuple, and a dictionary, and print them all."
   ]
  },
  {
   "cell_type": "code",
   "execution_count": 99,
   "id": "5894e5c7",
   "metadata": {},
   "outputs": [
    {
     "name": "stdout",
     "output_type": "stream",
     "text": [
      "My List: [1, 2, 3, 'hello']\n",
      "My Tuple: (10, 20, 'world')\n",
      "My Dictionary: {'item1': 100, 'item2': 200, 'item3': 'data'}\n"
     ]
    }
   ],
   "source": [
    "my_list = [1, 2, 3, 'hello']\n",
    "my_tuple = (10, 20, 'world')\n",
    "my_dictionary = {'item1': 100, 'item2': 200, 'item3': 'data'}\n",
    "\n",
    "print(\"My List:\", my_list)\n",
    "print(\"My Tuple:\", my_tuple)\n",
    "print(\"My Dictionary:\", my_dictionary)"
   ]
  },
  {
   "cell_type": "markdown",
   "id": "b2d854f4",
   "metadata": {},
   "source": [
    "# 27. Write a code to create a list of 5 random numbers between 1 and 100, sort it in ascending order, and print the result."
   ]
  },
  {
   "cell_type": "code",
   "execution_count": 100,
   "id": "6c1aa01f",
   "metadata": {},
   "outputs": [
    {
     "name": "stdout",
     "output_type": "stream",
     "text": [
      "Original random numbers: [17, 40, 49, 46, 53]\n",
      "Sorted random numbers (ascending): [17, 40, 46, 49, 53]\n"
     ]
    }
   ],
   "source": [
    "import random\n",
    "\n",
    "random_numbers = []\n",
    "for _ in range(5):\n",
    "    random_numbers.append(random.randint(1, 100))\n",
    "\n",
    "print(f\"Original random numbers: {random_numbers}\")\n",
    "\n",
    "random_numbers.sort() # Sorts the list in-place\n",
    "print(f\"Sorted random numbers (ascending): {random_numbers}\")"
   ]
  },
  {
   "cell_type": "markdown",
   "id": "2f3f0f5c",
   "metadata": {},
   "source": [
    "# 28. Write a code to create a list with strings and print the element at the third index."
   ]
  },
  {
   "cell_type": "code",
   "execution_count": 101,
   "id": "93ae28f8",
   "metadata": {},
   "outputs": [
    {
     "name": "stdout",
     "output_type": "stream",
     "text": [
      "The list of strings: ['apple', 'banana', 'cherry', 'date', 'elderberry']\n",
      "The element at the third index is: cherry\n"
     ]
    }
   ],
   "source": [
    "string_list = ['apple', 'banana', 'cherry', 'date', 'elderberry']\n",
    "\n",
    "\n",
    "element_at_third_index = string_list[2]\n",
    "\n",
    "print(f\"The list of strings: {string_list}\")\n",
    "print(f\"The element at the third index is: {element_at_third_index}\")"
   ]
  },
  {
   "cell_type": "markdown",
   "id": "9ceb0ee0",
   "metadata": {},
   "source": [
    "# 29. Write a code to combine two dictionaries into one and print the result."
   ]
  },
  {
   "cell_type": "code",
   "execution_count": 102,
   "id": "9b196702",
   "metadata": {},
   "outputs": [
    {
     "name": "stdout",
     "output_type": "stream",
     "text": [
      "Dictionary 1: {'a': 1, 'b': 2}\n",
      "Dictionary 2: {'c': 3, 'd': 4}\n",
      "Combined Dictionary: {'a': 1, 'b': 2, 'c': 3, 'd': 4}\n"
     ]
    }
   ],
   "source": [
    "dict1 = {'a': 1, 'b': 2}\n",
    "dict2 = {'c': 3, 'd': 4}\n",
    "\n",
    "# Using the ** operator (for Python 3.5+)\n",
    "combined_dict = {**dict1, **dict2}\n",
    "\n",
    "# Alternative for Python 3.9+ using | operator\n",
    "# combined_dict = dict1 | dict2\n",
    "\n",
    "# Alternative using .update() (modifies dict1 in-place)\n",
    "# dict1.update(dict2)\n",
    "# combined_dict = dict1\n",
    "\n",
    "print(f\"Dictionary 1: {dict1}\")\n",
    "print(f\"Dictionary 2: {dict2}\")\n",
    "print(f\"Combined Dictionary: {combined_dict}\")"
   ]
  },
  {
   "cell_type": "markdown",
   "id": "a847bb2b",
   "metadata": {},
   "source": [
    "# 30. Write a code to convert a list of strings into a set."
   ]
  },
  {
   "cell_type": "code",
   "execution_count": 103,
   "id": "2b48f69c",
   "metadata": {},
   "outputs": [
    {
     "name": "stdout",
     "output_type": "stream",
     "text": [
      "Original list of strings: ['apple', 'banana', 'cherry', 'apple', 'date']\n",
      "Converted set of strings: {'cherry', 'banana', 'apple', 'date'}\n"
     ]
    }
   ],
   "source": [
    "list_of_strings = [\"apple\", \"banana\", \"cherry\", \"apple\", \"date\"]\n",
    "\n",
    "set_of_strings = set(list_of_strings)\n",
    "\n",
    "print(f\"Original list of strings: {list_of_strings}\")\n",
    "print(f\"Converted set of strings: {set_of_strings}\")\n",
    "# Note: Sets automatically remove duplicate elements."
   ]
  },
  {
   "cell_type": "code",
   "execution_count": null,
   "id": "87d29500",
   "metadata": {},
   "outputs": [],
   "source": []
  }
 ],
 "metadata": {
  "kernelspec": {
   "display_name": "Python 3 (ipykernel)",
   "language": "python",
   "name": "python3"
  },
  "language_info": {
   "codemirror_mode": {
    "name": "ipython",
    "version": 3
   },
   "file_extension": ".py",
   "mimetype": "text/x-python",
   "name": "python",
   "nbconvert_exporter": "python",
   "pygments_lexer": "ipython3",
   "version": "3.9.13"
  }
 },
 "nbformat": 4,
 "nbformat_minor": 5
}
