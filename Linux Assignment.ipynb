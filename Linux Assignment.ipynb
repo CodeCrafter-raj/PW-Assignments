{
 "cells": [
  {
   "cell_type": "markdown",
   "id": "fc5143ab",
   "metadata": {},
   "source": [
    "# 1 What is Linux?"
   ]
  },
  {
   "cell_type": "markdown",
   "id": "c431b3f5",
   "metadata": {},
   "source": [
    "Linux is a free and open-source operating system kernel that serves as the foundation for various operating systems, commonly known as Linux distributions.\n",
    "Think of the kernel as the central part of an operating system; it directly interacts with the computer's hardware, managing resources like the CPU, memory, and storage, and enabling software applications to run.\n",
    "\n",
    "Because it's open-source, anyone can view, modify, and distribute its code. \n",
    "This collaborative development model has led to its widespread adoption across many different types of computing devices, from smartphones (Android is built on the Linux kernel) and embedded systems to servers, supercomputers, and desktop computers. \n",
    "Popular Linux distributions like Ubuntu, Fedora, Debian, and Mint bundle the Linux kernel with other software components (like a graphical user interface, utilities, and applications) to create a complete and usable operating system."
   ]
  },
  {
   "cell_type": "markdown",
   "id": "9f4e8be4",
   "metadata": {},
   "source": [
    "Advantages of Linux:\n",
    "\n",
    "\n",
    "Open Source and Free: Most Linux distributions are free to download, use, and distribute. Its open-source nature means the source code is publicly available, allowing for transparency, community development, and customization.\n",
    "\n",
    "Stability and Reliability: Linux systems are known for their exceptional stability and reliability. They rarely crash or require reboots, making them ideal for servers and critical applications.\n",
    "\n",
    "Security: Linux is generally considered more secure than other operating systems. Its robust permission system, active community, and open-source nature (allowing for quick identification and patching of vulnerabilities) contribute to its strong security.\n",
    "\n",
    "Customization: Linux offers unparalleled customization. Users can choose from various desktop environments, window managers, and tools to tailor their operating system to their exact preferences and needs.\n",
    "\n",
    "Performance: Linux can often run efficiently on older hardware, breathing new life into systems that might struggle with more resource-intensive operating systems. It also generally has excellent performance for modern systems.\n",
    "\n",
    "Community Support: There's a vast and active global community of Linux users and developers. This means extensive online resources, forums, and documentation are available for troubleshooting and learning.\n",
    "\n",
    "Ideal for Development: Linux is a favorite among developers and programmers due to its powerful command-line interface, robust toolset, and flexible environment."
   ]
  },
  {
   "cell_type": "markdown",
   "id": "2c210163",
   "metadata": {},
   "source": [
    "# 2.What is the difference between Hard Link & Soft Link?"
   ]
  },
  {
   "cell_type": "markdown",
   "id": "7028d3f3",
   "metadata": {},
   "source": [
    "In Linux (and Unix-like operating systems), links are essentially pointers to files or directories, allowing you to access the same data from multiple locations or names.\n",
    "There are two main types"
   ]
  },
  {
   "cell_type": "markdown",
   "id": "06497ae7",
   "metadata": {},
   "source": [
    "Hard Link:\n",
    "\n",
    "What it is: A hard link is a direct pointer to the actual data (inode) on the disk.\n",
    "Think of it as another name for the same file content. All hard links to a file are equally valid and refer to the same underlying data.\n",
    "\n",
    "How it works:\n",
    "    When you create a file, it gets an inode (a unique identifier for the file's data and metadata) and a link count of 1. Creating a hard link increases this link count. Deleting a hard link only decrements the link count; the actual file data is only removed from the disk when the link count reaches zero (i.e., all hard links, including the original filename, are deleted).\n",
    "\n",
    "Key Characteristics:\n",
    "\n",
    "    Shares the same inode number as the original file.\n",
    "    \n",
    "    Cannot span across different file systems/partitions.\n",
    "    \n",
    "    Cannot be created for directories (to prevent complex loops).\n",
    "    \n",
    "    If the original file is deleted, the hard link still works and the data remains accessible as long as at least one hard link exists.\n",
    "    \n",
    "    Changes made through any hard link are reflected in all other hard links because they all point to the same data."
   ]
  },
  {
   "cell_type": "markdown",
   "id": "a0bb7023",
   "metadata": {},
   "source": [
    "Soft Link (Symbolic Link / Symlink):\n",
    "\n",
    "A soft link is a special type of file that contains the path to another file or directory. It's like a shortcut in Windows. It points to the name of the original file, not directly to its data.\n",
    "\n",
    "How it works: When you create a soft link, a new file is created with its own unique inode. The content of this new file is simply the path to the target file or directory. When you try to access the soft link, the operating system reads the path inside it and redirects you to the target.\n",
    "\n",
    "Key Characteristics:\n",
    "    \n",
    "Has a different inode number from the original file.\n",
    "\n",
    "Can span across different file systems/partitions.\n",
    "\n",
    "Can be created for both files and directories.\n",
    "\n",
    "If the original file is deleted or moved, the soft link \"breaks\" or becomes \"dangling\" because the path it points to no longer exists.\n",
    "You can easily identify a soft link (e.g., ls -l shows l at the beginning of the permissions and -> target_path).\n",
    "Its size is typically small, reflecting the length of the path it stores, not the size of the target file."
   ]
  },
  {
   "cell_type": "markdown",
   "id": "14c3f99f",
   "metadata": {},
   "source": [
    "# 3.What is a Kernel in Linux?"
   ]
  },
  {
   "cell_type": "markdown",
   "id": "07d3240f",
   "metadata": {},
   "source": [
    "In Linux, the kernel is the fundamental core of the operating system. It's the first program loaded when the computer starts up, and it acts as the primary interface between the hardware and the software applications.\n",
    "\n",
    "\n",
    "Here's a breakdown of its key functions:\n",
    "\n",
    "Resource Management: It manages the computer's essential resources, including:\n",
    "    \n",
    "    CPU (Processor): Decides which programs get access to the CPU and for how long (process scheduling).\n",
    "    \n",
    "    Memory (RAM): Allocates memory to running programs and ensures they don't interfere with each other (memory management).\n",
    "    \n",
    "    I/O Devices: Handles input and output operations with peripherals like keyboards, mice, printers, hard drives, and network interfaces (device management).\n",
    "        \n",
    "        \n",
    "Process Management: Creates, manages, and terminates processes (running programs). It ensures each process gets the necessary resources and runs smoothly.\n",
    "\n",
    "System Calls: Provides a set of defined interfaces (system calls) that applications use to request services from the kernel, such as reading from a file, writing to the screen, or creating a new process.\n",
    "\n",
    "Security: Enforces security policies, including user permissions and access control, to protect the system's integrity and data.\n",
    "\n",
    "Essentially, the Linux kernel is the brain of the operating system. It provides the low-level functions that allow all other software to run and interact with the computer's hardware. Without the kernel, there would be no Linux operating system as we know it."
   ]
  },
  {
   "cell_type": "markdown",
   "id": "237ef0c7",
   "metadata": {},
   "source": [
    "Essentially, the Linux kernel is the brain of the operating system. It provides the low-level functions that allow all other software to run and interact with the computer's hardware. Without the kernel, there would be no Linux operating system as we know it."
   ]
  },
  {
   "cell_type": "markdown",
   "id": "1c5f583e",
   "metadata": {},
   "source": [
    "# 4. How do you create a user account?"
   ]
  },
  {
   "cell_type": "markdown",
   "id": "9e30a1fb",
   "metadata": {},
   "source": [
    "In Linux, you typically create a new user account using the useradd command. After creating the user, you'll usually set a password for them using passwd."
   ]
  },
  {
   "cell_type": "markdown",
   "id": "7f1e34d3",
   "metadata": {},
   "source": [
    "Step by step process to create a user."
   ]
  },
  {
   "cell_type": "markdown",
   "id": "07bbd410",
   "metadata": {},
   "source": [
    "1.Open a terminal: You'll need to be logged in as a root user or a user with sudo privileges.\n",
    "\n",
    "2.Create the user account:\n",
    "\n",
    "    ---> sudo useradd newusername\n",
    "    \n",
    "    Replace newusername with the desired username for the new account."
   ]
  },
  {
   "cell_type": "markdown",
   "id": "d8ee2909",
   "metadata": {},
   "source": [
    "Explanation:\n",
    "sudo: This command allows you to run commands with superuser (root) privileges, which is necessary to create system accounts.\n",
    "useradd: This is the command used to create a new user."
   ]
  },
  {
   "cell_type": "markdown",
   "id": "2423a2ee",
   "metadata": {},
   "source": [
    "3.Set a password for the new user:\n",
    "\n",
    "Bash\n",
    "\n",
    "--->sudo passwd newusername\n",
    "\n",
    "You will then be prompted to enter the new password twice.\n",
    "\n",
    "Explanation:\n",
    "passwd: This command is used to change or set a user's password."
   ]
  },
  {
   "cell_type": "markdown",
   "id": "9efc697a",
   "metadata": {},
   "source": [
    "# 5I What is the ‘grep’ command used for in Linux?"
   ]
  },
  {
   "cell_type": "markdown",
   "id": "23988d85",
   "metadata": {},
   "source": [
    "The grep command in Linux is a powerful utility used for searching plain-text data for lines that match a regular expression (regex). Its name stands for \"Global Regular Expression Print.\"\n",
    "\n",
    "In simpler terms, you use grep to:\n",
    "\n",
    "Find specific text patterns within files.\n",
    "\n",
    "Filter output from other commands to show only relevant lines.\n",
    "\n",
    "Key uses and functionalities:\n",
    "\n",
    "    Pattern Matching: The core function of grep is to find lines that contain a specified pattern. This pattern can be a simple string (e.g., error) or a complex regular expression.\n",
    "\n",
    "    File Searching: You can tell grep to search within one or more files.\n",
    "\n",
    "    Standard Input: grep can also process input piped to it from other commands. This is extremely useful for filtering command output.\n",
    "\n",
    "    Case Insensitivity: You can make the search case-insensitive (ignore whether letters are uppercase or lowercase).\n",
    "\n",
    "    Invert Match: Show lines that do not match the pattern.\n",
    "\n",
    "    Line Numbering: Display the line numbers where matches are found.\n",
    "\n",
    "    Count Matches: Report only the count of matching lines or patterns.\n",
    "\n",
    "    Recursive Search: Search for patterns within files in subdirectories.\n",
    "\n",
    "    Show Context: Display lines before and/or after the matching line to provide context.\n",
    "\n",
    "\n",
    "Examples:\n",
    "\n",
    "    grep \"hello\" myfile.txt: Finds lines containing \"hello\" in myfile.txt.\n",
    "    \n",
    "    ps aux | grep \"apache\": Shows all processes related to \"apache\".\n",
    "    \n",
    "    grep -i \"ERROR\" logfile.log: Finds lines containing \"error\" (case-insensitive) in logfile.log.\n",
    "    \n",
    "    grep -v \"success\" output.txt: Shows lines in output.txt that do not contain \"success\"."
   ]
  },
  {
   "cell_type": "markdown",
   "id": "dbfaaa5e",
   "metadata": {},
   "source": [
    "# Question-6\n",
    "\n",
    "Step1: Create user p1.\n",
    "\n",
    "Step2: He should be part of 3 groups g1,g2,g3.\n",
    "\n",
    "Step3: whenever he creates a file automatically in the group section of file grp g1 should come."
   ]
  },
  {
   "cell_type": "markdown",
   "id": "3b97c959",
   "metadata": {},
   "source": [
    "# Step-by-step commands:"
   ]
  },
  {
   "cell_type": "markdown",
   "id": "a9156ec1",
   "metadata": {},
   "source": [
    "# I.Create the groups (g1, g2, g3):\n",
    "These commands create the three new groups.\n",
    "\n",
    "\n",
    "#command\n",
    "\n",
    "--------->sudo groupadd g1\n",
    "\n",
    "--------->sudo groupadd g2\n",
    "\n",
    "--------->sudo groupadd g3"
   ]
  },
  {
   "cell_type": "markdown",
   "id": "22f0c335",
   "metadata": {},
   "source": [
    "# II.Create the user p1 and add them to groups g1, g2, and g3:"
   ]
  },
  {
   "cell_type": "markdown",
   "id": "c4a690ff",
   "metadata": {},
   "source": [
    "This command creates the user p1, creates their home directory (-m), and assigns g1 as their primary group and g2 and g3 as supplementary groups."
   ]
  },
  {
   "cell_type": "markdown",
   "id": "8fc6f3d3",
   "metadata": {},
   "source": [
    "#command\n",
    "\n",
    "----------------->sudo useradd -m -g g1 -G g2,g3 p1"
   ]
  },
  {
   "cell_type": "markdown",
   "id": "7cd52272",
   "metadata": {},
   "source": [
    "#Command explanatio\n",
    "\n",
    "-m: Creates the user's home directory if it doesn't exist.\n",
    "    \n",
    "-g g1: Sets g1 as the user's primary group. This is crucial for the \"automatically in the group section of file grp g1 should come\" requirement.\n",
    "\n",
    "    -G g2,g3: Adds g2 and g3 as supplementary groups."
   ]
  },
  {
   "cell_type": "markdown",
   "id": "df012d74",
   "metadata": {},
   "source": [
    "# III.Set a password for user p1:\n",
    "\n",
    "You will be prompted to enter and confirm the password for p1."
   ]
  },
  {
   "cell_type": "markdown",
   "id": "2a4ba74c",
   "metadata": {},
   "source": [
    "#COMMAND\n",
    "\n",
    "------------>sudo passwd p1"
   ]
  },
  {
   "cell_type": "markdown",
   "id": "ea367f4c",
   "metadata": {},
   "source": [
    "# IV.Verify the user and group memberships (Optional but Recommended):\n",
    "    \n",
    "You can use the id command to check the user's groups."
   ]
  },
  {
   "cell_type": "markdown",
   "id": "06081550",
   "metadata": {},
   "source": [
    "#COMMAND\n",
    "\n",
    "--------------------------->id p1\n",
    "\n",
    "\n",
    "The output should show uid=... gid=g1(...) groups=g1,...,g2,...,g3 indicating g1 as the primary GID and g2, g3 in the groups list."
   ]
  },
  {
   "cell_type": "markdown",
   "id": "053e584a",
   "metadata": {},
   "source": [
    "# V.Test the file creation (as user p1):\n",
    "    \n",
    "Now, you need to switch to user p1 and create a file to confirm its group ownership."
   ]
  },
  {
   "cell_type": "code",
   "execution_count": 15,
   "id": "cab2b9d1",
   "metadata": {},
   "outputs": [
    {
     "ename": "SyntaxError",
     "evalue": "invalid syntax (589709584.py, line 1)",
     "output_type": "error",
     "traceback": [
      "\u001b[1;36m  File \u001b[1;32m\"C:\\Users\\RAj\\AppData\\Local\\Temp\\ipykernel_22696\\589709584.py\"\u001b[1;36m, line \u001b[1;32m1\u001b[0m\n\u001b[1;33m    a. Switch to user p1:\u001b[0m\n\u001b[1;37m              ^\u001b[0m\n\u001b[1;31mSyntaxError\u001b[0m\u001b[1;31m:\u001b[0m invalid syntax\n"
     ]
    }
   ],
   "source": [
    "a. Switch to user p1:\n",
    "\n",
    "#command\n",
    "\n",
    "-------------->su - p1\n",
    "\n",
    "You will be prompted for p1's password.\n",
    "\n",
    "\n",
    "b. Create a test file in p1's home directory:\n",
    "\n",
    "#command\n",
    "------------->touch testfile.txt\n",
    "\n",
    "\n",
    "c. List the file to check its group:\n",
    "    \n",
    "#command\n",
    "\n",
    "---------------->ls -l testfile.txt\n",
    "\n",
    "\n",
    "The output should look something like this, confirming g1 as the group owner:\n",
    "\n",
    "    --------------rw-rw-r-- 1 p1 g1 0 May 23 16:00 testfile.txt\n",
    "        \n",
    "        \n",
    "        Notice g1 under the group column.\n",
    "\n",
    "d. Exit back to your original user/root:\n",
    "    \n",
    "    #command\n",
    "    \n",
    "    -------------exit"
   ]
  },
  {
   "cell_type": "markdown",
   "id": "bc035985",
   "metadata": {},
   "source": [
    "# Question 7\n",
    "\n",
    "\n",
    " Step1: Create directory /tmp/bg as root user and create files inside it.\n",
    "\n",
    " Step2: “abhi” should be the owner of the directory. He should be able to create files and delete files inside .\n",
    "\n",
    " the directory and also he should be able to add content to all files inside the directory."
   ]
  },
  {
   "cell_type": "markdown",
   "id": "283961c9",
   "metadata": {},
   "source": [
    "# Step I: Create directory /tmp/bg as root user and create files inside it.\n",
    "\n",
    "Open your terminal.\n",
    "\n",
    "Create the directory /tmp/bg as root:\n",
    "    \n",
    "    #command\n",
    "    -------->sudo mkdir /tmp/bg\n",
    "    \n",
    "    \n",
    "    sudo: Executes the command with superuser privileges.\n",
    "    \n",
    "    mkdir: Creates a new directory."
   ]
  },
  {
   "cell_type": "markdown",
   "id": "11641b9f",
   "metadata": {},
   "source": [
    "# Create some sample files inside /tmp/bg as root:"
   ]
  },
  {
   "cell_type": "markdown",
   "id": "2977e49c",
   "metadata": {},
   "source": [
    "#Command\n",
    "\n",
    "--------->sudo touch /tmp/bg/file1.txt\n",
    "\n",
    "--------->sudo touch /tmp/bg/file2.log\n",
    "\n",
    "--------->sudo touch /tmp/bg/another_file\n",
    "\n",
    "touch: Creates empty files."
   ]
  },
  {
   "cell_type": "markdown",
   "id": "5b9f3132",
   "metadata": {},
   "source": [
    "# Verify the creation and initial ownership (optional):"
   ]
  },
  {
   "cell_type": "markdown",
   "id": "4328ec66",
   "metadata": {},
   "source": [
    "#Command\n",
    "\n",
    "---------->ls -l /tmp/bg/\n",
    "\n",
    "###You'll likely see root as the owner and group for these files and the directory initially.\n",
    "\n"
   ]
  },
  {
   "cell_type": "markdown",
   "id": "1dfedab4",
   "metadata": {},
   "source": [
    "# Step2:"
   ]
  },
  {
   "cell_type": "markdown",
   "id": "af99f51c",
   "metadata": {},
   "source": [
    "# I.Create the user abhi (if they don't already exist):\n",
    "                        \n",
    "If the user 'abhi' already exists, skip this."
   ]
  },
  {
   "cell_type": "markdown",
   "id": "b7316df0",
   "metadata": {},
   "source": [
    "#Command\n",
    "\n",
    "------->sudo useradd -m abhi\n",
    "\n",
    "------->sudo passwd abhi"
   ]
  },
  {
   "cell_type": "markdown",
   "id": "531109d0",
   "metadata": {},
   "source": [
    "sudo useradd -m abhi: Creates the user abhi and their home directory.\n",
    "    \n",
    "sudo passwd abhi: Prompts you to set a password for abhi."
   ]
  },
  {
   "cell_type": "markdown",
   "id": "f5a984a3",
   "metadata": {},
   "source": [
    "# II.Change the owner of the /tmp/bg directory to abhi:"
   ]
  },
  {
   "cell_type": "markdown",
   "id": "37ecb978",
   "metadata": {},
   "source": [
    "#Command\n",
    "\n",
    "------------>sudo chown abhi:abhi /tmp/bg"
   ]
  },
  {
   "cell_type": "markdown",
   "id": "ae3a90b6",
   "metadata": {},
   "source": [
    "sudo chown: Changes the owner and/or group of files or directories.\n",
    "    \n",
    "abhi:abhi: Sets both the owner and the group to abhi"
   ]
  },
  {
   "cell_type": "markdown",
   "id": "3387e49b",
   "metadata": {},
   "source": [
    "# For abhi to be able to create/delete/modify files inside, the directory itself needs rwx permissions for the owner."
   ]
  },
  {
   "cell_type": "markdown",
   "id": "e17e1352",
   "metadata": {},
   "source": [
    "#Command\n",
    "\n",
    "--------------->sudo chmod 700 /tmp/bg"
   ]
  },
  {
   "cell_type": "markdown",
   "id": "955d97e0",
   "metadata": {},
   "source": [
    "sudo chmod 700 /tmp/bg: Gives read, write, and execute permissions only to the owner (abhi)."
   ]
  },
  {
   "cell_type": "markdown",
   "id": "461f2dfd",
   "metadata": {},
   "source": [
    "# III.Set permissions on existing files for abhi to be able to add content."
   ]
  },
  {
   "cell_type": "markdown",
   "id": "33c9dc2b",
   "metadata": {},
   "source": [
    "Since abhi is the owner of the directory, new files created by abhi will automatically be owned by abhi and inherit permissions based on abhi's umask. However, the files created by root within /tmp/bg might still be owned by root and not writable by abhi. We need to ensure abhi can write to all files."
   ]
  },
  {
   "cell_type": "markdown",
   "id": "101b88cb",
   "metadata": {},
   "source": [
    "#COMMAND\n",
    "\n",
    "------------>sudo chown abhi:abhi /tmp/bg/*\n",
    "    \n",
    "------------>sudo chmod u+w /tmp/bg/*"
   ]
  },
  {
   "cell_type": "markdown",
   "id": "6b522945",
   "metadata": {},
   "source": [
    "sudo chown abhi:abhi /tmp/bg/*: Changes the owner and group of all existing files inside /tmp/bg to abhi.\n",
    "        \n",
    "sudo chmod u+w /tmp/bg/*: Adds write permission for the owner (u+w) to all existing files within /tmp/bg."
   ]
  },
  {
   "cell_type": "markdown",
   "id": "12072ab6",
   "metadata": {},
   "source": [
    "# Verification Steps (as user abhi):"
   ]
  },
  {
   "cell_type": "markdown",
   "id": "2d9f9288",
   "metadata": {},
   "source": [
    "# I.Switch to the abhi user:"
   ]
  },
  {
   "cell_type": "markdown",
   "id": "765d321d",
   "metadata": {},
   "source": [
    "#Command\n",
    "\n",
    "-------------->su - abhi\n",
    "\n",
    "(Enter abhi's password when prompted)"
   ]
  },
  {
   "cell_type": "markdown",
   "id": "583f8dc3",
   "metadata": {},
   "source": [
    "# II.Verify ownership and permissions of the directory and existing files:\n",
    "    \n",
    "#Command\n",
    "    \n",
    "------------->ls -ld /tmp/bg\n",
    "\n",
    "-------------->ls -l /tmp/bg/"
   ]
  },
  {
   "cell_type": "markdown",
   "id": "7464f1fb",
   "metadata": {},
   "source": [
    "You should see abhi as the owner for /tmp/bg and for the files inside. The directory permissions should be rwx for abhi."
   ]
  },
  {
   "cell_type": "markdown",
   "id": "83e88b9c",
   "metadata": {},
   "source": [
    "# III.Test creating a new file."
   ]
  },
  {
   "cell_type": "markdown",
   "id": "e79ebedd",
   "metadata": {},
   "source": [
    "#Command\n",
    "\n",
    "------------->touch /tmp/bg/new_file_by_abhi.txt\n",
    "\n",
    "------------->ls -l /tmp/bg/"
   ]
  },
  {
   "cell_type": "markdown",
   "id": "ab32e525",
   "metadata": {},
   "source": [
    "You should see new_file_by_abhi.txt created and owned by abhi."
   ]
  },
  {
   "cell_type": "markdown",
   "id": "4f89b76d",
   "metadata": {},
   "source": [
    "# IV.Test adding content to an existing file."
   ]
  },
  {
   "cell_type": "markdown",
   "id": "f9a817d1",
   "metadata": {},
   "source": [
    "#Command\n",
    "\n",
    "----------->echo \"This is content added by abhi to file1.\" >> /tmp/bg/file1.txt\n",
    "\n",
    "----------->cat /tmp/bg/file1.txt\n",
    "\n",
    "You should see the added content when you cat the file."
   ]
  },
  {
   "cell_type": "markdown",
   "id": "4c4139bc",
   "metadata": {},
   "source": [
    "# v.Test deleting a file:"
   ]
  },
  {
   "cell_type": "markdown",
   "id": "feb9f014",
   "metadata": {},
   "source": [
    "#Command\n",
    "\n",
    "------------>rm /tmp/bg/another_file\n",
    "\n",
    "------------>ls -l /tmp/bg/"
   ]
  },
  {
   "cell_type": "markdown",
   "id": "47be851d",
   "metadata": {},
   "source": [
    "# VI.Exit back to your original user."
   ]
  },
  {
   "cell_type": "markdown",
   "id": "c0a50f1f",
   "metadata": {},
   "source": [
    "#Command\n",
    "\n",
    "------------>exit"
   ]
  },
  {
   "cell_type": "markdown",
   "id": "4e7f66a1",
   "metadata": {},
   "source": [
    "# Question  8.You suspect that a particular process is consuming excessive CPU resources on your Linux server. How would you identify and terminate this process?"
   ]
  },
  {
   "cell_type": "markdown",
   "id": "71a09889",
   "metadata": {},
   "source": [
    "# 1. Identify the Process\n",
    "\n",
    "\n",
    "top (Recommended for interactive monitoring):\n",
    "    \n",
    "top provides a real-time, dynamic view of running processes.\n",
    "It sorts processes by CPU usage by default, making it easy to spot resource hogs\n",
    "\n",
    "\n",
    "\n",
    "\n",
    "#command\n",
    "\n",
    "-------------------------->top"
   ]
  },
  {
   "cell_type": "markdown",
   "id": "6a2dd29d",
   "metadata": {},
   "source": [
    "2.htop (More user-friendly alternative to top):\n",
    "    \n",
    "    htop is an enhanced interactive process viewer that is often more intuitive than top."
   ]
  },
  {
   "cell_type": "markdown",
   "id": "925ddbc6",
   "metadata": {},
   "source": [
    "#Command\n",
    "\n",
    "----------------->htop"
   ]
  },
  {
   "cell_type": "markdown",
   "id": "1fd27afd",
   "metadata": {},
   "source": [
    "# 2. Terminate the Process\n",
    "\n",
    "Once you have identified the PID of the problematic process, you can terminate it using the kill command."
   ]
  },
  {
   "cell_type": "markdown",
   "id": "30adc698",
   "metadata": {},
   "source": [
    "kill PID (Graceful termination - SIGTERM):\n",
    "    \n",
    "    This sends a SIGTERM (terminate) signal to the process, asking it to shut down gracefully. This allows the process to clean up before exiting."
   ]
  },
  {
   "cell_type": "markdown",
   "id": "67d9f987",
   "metadata": {},
   "source": [
    "#Command\n",
    "\n",
    "------------>kill <PID>\n",
    "\n",
    "\n",
    "#Replace <PID> with the actual process ID."
   ]
  },
  {
   "cell_type": "markdown",
   "id": "f82c3f8f",
   "metadata": {},
   "source": [
    "kill -9 PID (Forceful termination - SIGKILL):\n",
    "\n",
    "If kill <PID> doesn't work (the process ignores the SIGTERM signal), you can use kill -9. This sends a SIGKILL signal, which immediately and forcefully terminates the process without giving it a chance to clean up. Use this as a last resort."
   ]
  },
  {
   "cell_type": "markdown",
   "id": "af862b13",
   "metadata": {},
   "source": [
    "#Command\n",
    "\n",
    "---------------->kill -9 <PID>\n",
    "\n",
    "\n",
    "#Replace <PID> with the actual process ID."
   ]
  },
  {
   "cell_type": "code",
   "execution_count": null,
   "id": "c84adde6",
   "metadata": {},
   "outputs": [],
   "source": []
  }
 ],
 "metadata": {
  "kernelspec": {
   "display_name": "Python 3 (ipykernel)",
   "language": "python",
   "name": "python3"
  },
  "language_info": {
   "codemirror_mode": {
    "name": "ipython",
    "version": 3
   },
   "file_extension": ".py",
   "mimetype": "text/x-python",
   "name": "python",
   "nbconvert_exporter": "python",
   "pygments_lexer": "ipython3",
   "version": "3.9.13"
  }
 },
 "nbformat": 4,
 "nbformat_minor": 5
}
