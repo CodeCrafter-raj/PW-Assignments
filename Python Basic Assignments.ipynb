{
 "cells": [
  {
   "cell_type": "markdown",
   "id": "3ad608d9",
   "metadata": {},
   "source": [
    "# Q1.Explain the key features of Python that make it a popular choice for programming.\n"
   ]
  },
  {
   "cell_type": "markdown",
   "id": "639dd956",
   "metadata": {},
   "source": [
    "Python's popularity stems from its readability, versatility, extensive libraries, and strong community support.\n",
    "Its simple syntax, resembling English, makes it easy to learn and understand, even for beginners.\n",
    "Python's versatility allows it to be used in various domains like web development, data science, and machine learning.\n",
    "Additionally, a vast ecosystem of libraries and frameworks provides pre-built tools for specific tasks, reducing development time. "
   ]
  },
  {
   "cell_type": "markdown",
   "id": "033fab56",
   "metadata": {},
   "source": [
    "•\tReadability and Simplicity:\n",
    "Python's syntax is designed to be clear and concise, making it easier to read and understand. This is further enhanced by its use of indentation to define code blocks, which promotes clean and organized code. \n",
    "\n",
    "•\tVersatility:\n",
    "Python is a general-purpose language, meaning it can be used for a wide range of applications, from web development and scripting to data analysis and machine learning. \n",
    "\n",
    "•\tExtensive Libraries and Frameworks:\n",
    "Python boasts a rich ecosystem of libraries and frameworks that provide pre-built tools for specific tasks, such as web development (Django, Flask), data analysis (Pandas, NumPy), and machine learning (Scikit-learn, TensorFlow). \n",
    "\n",
    "•\tStrong Community Support:\n",
    "Python has a large and active community of developers who provide support, documentation, and resources. \n",
    "\n",
    "•\tInterpreted Language:\n",
    "Python is an interpreted language, meaning the code is executed line by line without the need for compilation, which allows for quicker development and debugging. \n",
    "\n",
    "•\tDynamic Typing:\n",
    "Python is a dynamically typed language, meaning that the type of a variable is determined at runtime, making it easier to write code and reduce the need for explicit type declarations. \n",
    "\n",
    "•\tObject-Oriented Programming:\n",
    "Python supports object-oriented programming (OOP), allowing developers to create reusable and modular code using classes and objects. \n",
    "\n",
    "•\tPlatform Independence:\n",
    "Python is a cross-platform language, meaning that it can run on different operating systems without modification. \n",
    "\n",
    "•\tOpen Source and Free:\n",
    "Python is an open-source and free-to-use language, which allows developers to contribute to its development and use it for both personal and commercial purposes.\n"
   ]
  },
  {
   "cell_type": "markdown",
   "id": "c9fa8359",
   "metadata": {},
   "source": [
    "# Q2. Describe the role of predefined keywords in Python and provide examples of how they are used in a program."
   ]
  },
  {
   "cell_type": "markdown",
   "id": "00a9b32f",
   "metadata": {},
   "source": [
    "\n",
    "In Python, predefined keywords are reserved words that have special meaning and purpose within the language. They cannot be used as variable names, function names, or other identifiers because they are essential for structuring the code and defining the syntax. These keywords are case-sensitive, meaning that they must be spelled exactly as they are defined in the language.\n"
   ]
  },
  {
   "cell_type": "markdown",
   "id": "1d45aad3",
   "metadata": {},
   "source": [
    "1. Control Flow Keywords:\n",
    "    \n",
    "•\tif, elif, else: These keywords are used to create conditional statements, allowing the program to execute different blocks of code based on whether a condition is true or false.\n"
   ]
  },
  {
   "cell_type": "code",
   "execution_count": 33,
   "id": "c197f407",
   "metadata": {},
   "outputs": [
    {
     "name": "stdout",
     "output_type": "stream",
     "text": [
      "x is greater than 5\n"
     ]
    }
   ],
   "source": [
    "        x = 10\n",
    "        if x > 5:\n",
    "            print(\"x is greater than 5\")\n",
    "        elif x == 5:\n",
    "            print(\"x is equal to 5\")\n",
    "        else:\n",
    "            print(\"x is less than 5\")\n"
   ]
  },
  {
   "cell_type": "markdown",
   "id": "cc1a7eab",
   "metadata": {},
   "source": [
    "for: This keyword is used to create a for loop, which iterates over a sequence (like a list, tuple, or string)"
   ]
  },
  {
   "cell_type": "code",
   "execution_count": 34,
   "id": "4bc6294e",
   "metadata": {},
   "outputs": [
    {
     "name": "stdout",
     "output_type": "stream",
     "text": [
      "apple\n",
      "banana\n",
      "cherry\n"
     ]
    }
   ],
   "source": [
    "fruits = [\"apple\", \"banana\", \"cherry\"]\n",
    "for fruit in fruits:\n",
    "    print(fruit)\n"
   ]
  },
  {
   "cell_type": "markdown",
   "id": "15fd65f9",
   "metadata": {},
   "source": [
    "\n",
    "while: This keyword is used to create a while loop, which executes a block of code as long as a condition is true.\n"
   ]
  },
  {
   "cell_type": "code",
   "execution_count": 35,
   "id": "8e41971f",
   "metadata": {},
   "outputs": [
    {
     "name": "stdout",
     "output_type": "stream",
     "text": [
      "0\n",
      "1\n",
      "2\n",
      "3\n",
      "4\n"
     ]
    }
   ],
   "source": [
    "count = 0\n",
    "while count < 5:\n",
    "    print(count)\n",
    "    count += 1\n"
   ]
  },
  {
   "cell_type": "markdown",
   "id": "41f11fa6",
   "metadata": {},
   "source": [
    "break: This keyword is used to exit a loop prematurely, regardless of the loop's condition. "
   ]
  },
  {
   "cell_type": "code",
   "execution_count": 36,
   "id": "88949b09",
   "metadata": {},
   "outputs": [
    {
     "name": "stdout",
     "output_type": "stream",
     "text": [
      "0\n",
      "1\n",
      "2\n",
      "3\n",
      "4\n"
     ]
    }
   ],
   "source": [
    "for i in range(10):\n",
    "    if i == 5:\n",
    "        break\n",
    "    print(i)\n"
   ]
  },
  {
   "cell_type": "markdown",
   "id": "8a0f4740",
   "metadata": {},
   "source": [
    "continue: This keyword is used to skip the current iteration of a loop and proceed to the next one."
   ]
  },
  {
   "cell_type": "code",
   "execution_count": 37,
   "id": "5c8ce9cf",
   "metadata": {},
   "outputs": [
    {
     "name": "stdout",
     "output_type": "stream",
     "text": [
      "0\n",
      "1\n",
      "2\n",
      "3\n",
      "4\n",
      "6\n",
      "7\n",
      "8\n",
      "9\n"
     ]
    }
   ],
   "source": [
    "for i in range(10):\n",
    "    if i == 5:\n",
    "        continue\n",
    "    print(i)\n"
   ]
  },
  {
   "cell_type": "markdown",
   "id": "a2c65fb2",
   "metadata": {},
   "source": [
    "\n",
    "pass: This keyword is a null statement, meaning it does nothing. It's often used as a placeholder when a statement is syntactically required but no code is to be executed. \n"
   ]
  },
  {
   "cell_type": "code",
   "execution_count": 38,
   "id": "88071e86",
   "metadata": {},
   "outputs": [],
   "source": [
    "        def my_function():\n",
    "            pass # Placeholder, no code yet\n"
   ]
  },
  {
   "cell_type": "markdown",
   "id": "5d548e41",
   "metadata": {},
   "source": [
    "# Q3.Compare and contrast mutable and immutable objects in Python with examples."
   ]
  },
  {
   "cell_type": "markdown",
   "id": "e573da09",
   "metadata": {},
   "source": [
    "Mutable objects can be modified after they are created, while immutable objects cannot. When a mutable object is modified, the changes are made in place, and the object's identity (memory address) remains the same. In contrast, when an immutable object appears to be modified, a new object is created with the updated value, and the original object remains unchanged.\n"
   ]
  },
  {
   "cell_type": "markdown",
   "id": "e20a32a0",
   "metadata": {},
   "source": [
    "Mutable Objects:\n",
    "Can be changed after creation.\n",
    "Remains the same when modified.\n",
    "Generally more memory-efficient."
   ]
  },
  {
   "cell_type": "markdown",
   "id": "8bbb6b57",
   "metadata": {},
   "source": [
    "Immutable Objects:\n",
    "Cannot be changed after creation.\n",
    "Changes when \"modified\".\n",
    "May use more memory due to copying\n"
   ]
  },
  {
   "cell_type": "markdown",
   "id": "4959bdfa",
   "metadata": {},
   "source": [
    "# Q4.Discuss the different types of operators in Python and provide examples of how they are used."
   ]
  },
  {
   "cell_type": "markdown",
   "id": "ff3a941a",
   "metadata": {},
   "source": [
    "Python offers several types of operators, categorized as arithmetic, assignment, comparison, logical, bitwise, identity, and membership operators. These operators are used to perform various operations on values and variables, including calculations, comparisons, assignments, and testing for membership. \n",
    "\n",
    "1. Arithmetic Operators\n",
    "\n",
    "    •\tAddition (+): Adds two operands. Example: 5 + 3 results in 8.\n",
    "\n",
    "    •\tSubtraction (-): Subtracts the second operand from the first. Example: 10 - 4 results in 6.\n",
    "\n",
    "    •\tMultiplication ():*: Multiplies two operands. Example: 2 * 6 results in 12.\n",
    "\n",
    "    •\tDivision (/): Divides the first operand by the second. Example: 20 / 5 results in 4.0.\n",
    "\n",
    "    •\tModulo (%): Returns the remainder of the division. Example: 10 % 3 results in 1.\n",
    "\n",
    "    •\tFloor Division (//): Divides and returns the integer part of the result. Example: 10 // 3 results in 3.\n",
    "\n",
    "    •\tExponentiation () : Raises the first operand to the power of the second. Example: 2 ** 3 results in 8. \n",
    "\n",
    "\n",
    "2. Assignment Operators:\n",
    "\n",
    "    \n",
    "    •\tAssignment (=): Assigns a value to a variable. Example: x = 5.\n",
    "\n",
    "    •\tArithmetic Assignment Operators: Combine an arithmetic operation and assignment (e.g., +=, -=, *=, /=, %=, **=, //= ). Example: x += 5 is equivalent to x = x + 5. \n",
    "\n",
    "            \n",
    "3. Comparison Operators:\n",
    "\n",
    "    \n",
    "    •\tEqual to (==): Checks if two operands are equal. Example: x == y returns True if x and y have the same value. \n",
    "\n",
    "    •\tNot equal to (!=): Checks if two operands are not equal. Example: x != y returns True if x and y have different values. \n",
    "\n",
    "    •\tGreater than (>): Checks if the first operand is greater than the second. \n",
    "\n",
    "    •\tLess than (<): Checks if the first operand is less than the second. \n",
    "\n",
    "    •\tGreater than or equal to (>=): Checks if the first operand is greater than or equal to the second. \n",
    "\n",
    "    •\tLess than or equal to (<=): Checks if the first operand is less than or equal to the second. \n",
    "\n",
    "        \n",
    "4. Logical Operators:\n",
    "\n",
    "    •\tAnd (and): Returns True if both operands are True. \n",
    "        \n",
    "    •\tOr (or): Returns True if at least one of the operands is True. \n",
    "\n",
    "    •\tNot (not): Reverses the truth value of an operand. \n",
    "\n",
    "        \n",
    "5. Bitwise Operators:\n",
    "\n",
    "    •\tBitwise AND (&): Performs a bitwise AND operation.\n",
    "\n",
    "    •\tBitwise OR (|): Performs a bitwise OR operation.\n",
    "\n",
    "    •\tBitwise NOT (~): Performs a bitwise NOT (complement) operation.\n",
    "            \n",
    "    •\tBitwise XOR (^): Performs a bitwise XOR operation.\n",
    "\n",
    "    •\tLeft Shift (<<): Shifts the bits of the left operand to the left.\n",
    "        \n",
    "    •\tRight Shift (>>): Shifts the bits of the left operand to the right. \n",
    "\n",
    "        \n",
    "6. Identity Operators:\n",
    "\n",
    "    •\tis: Checks if two objects are the same (have the same memory address).\n",
    "\n",
    "    •\tis not: Checks if two objects are not the same. \n",
    "\n",
    "        \n",
    "7. Membership Operators:\n",
    "\n",
    "    •\tin: Checks if a value is a member of a sequence (e.g., list, string, tuple).\n",
    "\n",
    "    •\tnot in: Checks if a value is not a member of a sequence.\n"
   ]
  },
  {
   "cell_type": "markdown",
   "id": "8bb66181",
   "metadata": {},
   "source": [
    "# Q5. Explain the concept of type casting in Python with examples."
   ]
  },
  {
   "cell_type": "markdown",
   "id": "291aa114",
   "metadata": {},
   "source": [
    "Type casting, also known as type conversion, is the process of changing a variable's data type to another. In Python, this can be done explicitly using built-in functions. Type casting is useful when performing operations that require specific data types or when formatting output. \n",
    "Explicit Type Casting\n",
    "In explicit type casting, the programmer manually converts the data type using functions like int(), float(), str(), list(), tuple(), set(), and dict().\n"
   ]
  },
  {
   "cell_type": "code",
   "execution_count": 39,
   "id": "d9e2f4b8",
   "metadata": {},
   "outputs": [
    {
     "name": "stdout",
     "output_type": "stream",
     "text": [
      "Integer: 10, Type: <class 'int'>\n",
      "Float: 10.0, Type: <class 'float'>\n"
     ]
    }
   ],
   "source": [
    "# Integer to float\n",
    "num_int = 10\n",
    "num_float = float(num_int)\n",
    "print(f\"Integer: {num_int}, Type: {type(num_int)}\")\n",
    "print(f\"Float: {num_float}, Type: {type(num_float)}\")\n"
   ]
  },
  {
   "cell_type": "code",
   "execution_count": 40,
   "id": "c9218f51",
   "metadata": {},
   "outputs": [
    {
     "name": "stdout",
     "output_type": "stream",
     "text": [
      "Float: 9.99, Type: <class 'float'>\n",
      "Integer: 9, Type: <class 'int'>\n"
     ]
    }
   ],
   "source": [
    "# Float to integer\n",
    "num_float = 9.99\n",
    "num_int = int(num_float)\n",
    "print(f\"Float: {num_float}, Type: {type(num_float)}\")\n",
    "print(f\"Integer: {num_int}, Type: {type(num_int)}\")\n"
   ]
  },
  {
   "cell_type": "code",
   "execution_count": 41,
   "id": "b6d15e6a",
   "metadata": {},
   "outputs": [
    {
     "name": "stdout",
     "output_type": "stream",
     "text": [
      "String: 123, Type: <class 'str'>\n",
      "Integer: 123, Type: <class 'int'>\n"
     ]
    }
   ],
   "source": [
    "# String to integer\n",
    "num_str = \"123\"\n",
    "num_int = int(num_str)\n",
    "print(f\"String: {num_str}, Type: {type(num_str)}\")\n",
    "print(f\"Integer: {num_int}, Type: {type(num_int)}\")\n"
   ]
  },
  {
   "cell_type": "code",
   "execution_count": 42,
   "id": "038ee0bb",
   "metadata": {},
   "outputs": [
    {
     "name": "stdout",
     "output_type": "stream",
     "text": [
      "String: 3.14, Type: <class 'str'>\n",
      "Float: 3.14, Type: <class 'float'>\n"
     ]
    }
   ],
   "source": [
    "# String to float\n",
    "num_str = \"3.14\"\n",
    "num_float = float(num_str)\n",
    "print(f\"String: {num_str}, Type: {type(num_str)}\")\n",
    "print(f\"Float: {num_float}, Type: {type(num_float)}\")\n"
   ]
  },
  {
   "cell_type": "code",
   "execution_count": 43,
   "id": "7a5dfa77",
   "metadata": {},
   "outputs": [
    {
     "name": "stdout",
     "output_type": "stream",
     "text": [
      "Integer: 456, Type: <class 'int'>\n",
      "String: 456, Type: <class 'str'>\n"
     ]
    }
   ],
   "source": [
    "# Integer to string\n",
    "num_int = 456\n",
    "num_str = str(num_int)\n",
    "print(f\"Integer: {num_int}, Type: {type(num_int)}\")\n",
    "print(f\"String: {num_str}, Type: {type(num_str)}\")\n"
   ]
  },
  {
   "cell_type": "code",
   "execution_count": 44,
   "id": "085d1d84",
   "metadata": {},
   "outputs": [
    {
     "name": "stdout",
     "output_type": "stream",
     "text": [
      "List: [1, 2, 3], Type: <class 'list'>\n",
      "Tuple: (1, 2, 3), Type: <class 'tuple'>\n"
     ]
    }
   ],
   "source": [
    "# List to tuple\n",
    "my_list = [1, 2, 3]\n",
    "my_tuple = tuple(my_list)\n",
    "print(f\"List: {my_list}, Type: {type(my_list)}\")\n",
    "print(f\"Tuple: {my_tuple}, Type: {type(my_tuple)}\")\n"
   ]
  },
  {
   "cell_type": "code",
   "execution_count": 45,
   "id": "7055be2b",
   "metadata": {},
   "outputs": [
    {
     "name": "stdout",
     "output_type": "stream",
     "text": [
      "List of Tuples: [('a', 1), ('b', 2), ('c', 3)], Type: <class 'list'>\n",
      "Dictionary: {'a': 1, 'b': 2, 'c': 3}, Type: <class 'dict'>\n"
     ]
    }
   ],
   "source": [
    "# List of tuples to dictionary\n",
    "list_of_tuples = [(\"a\", 1), (\"b\", 2), (\"c\", 3)]\n",
    "my_dict = dict(list_of_tuples)\n",
    "print(f\"List of Tuples: {list_of_tuples}, Type: {type(list_of_tuples)}\")\n",
    "print(f\"Dictionary: {my_dict}, Type: {type(my_dict)}\")"
   ]
  },
  {
   "cell_type": "code",
   "execution_count": 46,
   "id": "67c55356",
   "metadata": {},
   "outputs": [
    {
     "name": "stdout",
     "output_type": "stream",
     "text": [
      "List: [1, 2, 2, 3, 3, 3], Type: <class 'list'>\n",
      "Set: {1, 2, 3}, Type: <class 'set'>\n"
     ]
    }
   ],
   "source": [
    "# List to set\n",
    "my_list = [1, 2, 2, 3, 3, 3]\n",
    "my_set = set(my_list)\n",
    "print(f\"List: {my_list}, Type: {type(my_list)}\")\n",
    "print(f\"Set: {my_set}, Type: {type(my_set)}\")"
   ]
  },
  {
   "cell_type": "markdown",
   "id": "36ecfb88",
   "metadata": {},
   "source": [
    "# Q6.How do conditional statements work in Python? Illustrate with examples."
   ]
  },
  {
   "cell_type": "markdown",
   "id": "ecaafb32",
   "metadata": {},
   "source": [
    "Conditional statements are fundamental to programming, allowing your code to make decisions and execute different blocks of instructions based on whether certain conditions are true or false. In Python, these are primarily implemented using if, elif (short for \"else if\"), and else keywords."
   ]
  },
  {
   "cell_type": "markdown",
   "id": "071c52aa",
   "metadata": {},
   "source": [
    "The if Statement\n",
    "The if statement is the simplest form of a conditional. It executes a block of code only if its condition is true.\n"
   ]
  },
  {
   "cell_type": "markdown",
   "id": "2c376e8b",
   "metadata": {},
   "source": [
    "#Syntax:-\n",
    "if condition:\n",
    "    pass\n",
    "    # Code to execute if the condition is True\n"
   ]
  },
  {
   "cell_type": "markdown",
   "id": "f3544d46",
   "metadata": {},
   "source": [
    "How it works:\n",
    "1.\tPython evaluates the condition.\n",
    "2.\tIf the condition is True, the indented block of code immediately following the if statement is executed.\n",
    "3.\tIf the condition is False, the indented block is skipped, and the program continues with the code after the if block.\n"
   ]
  },
  {
   "cell_type": "markdown",
   "id": "60afe835",
   "metadata": {},
   "source": [
    "Example 1: Checking if a number is positive "
   ]
  },
  {
   "cell_type": "code",
   "execution_count": 47,
   "id": "99c9e367",
   "metadata": {},
   "outputs": [
    {
     "name": "stdout",
     "output_type": "stream",
     "text": [
      "The number is positive.\n"
     ]
    }
   ],
   "source": [
    "number = 10\n",
    "\n",
    "if number > 0:\n",
    "    print(\"The number is positive.\")\n"
   ]
  },
  {
   "cell_type": "markdown",
   "id": "a6c685b5",
   "metadata": {},
   "source": [
    "The else Statement\n",
    "The else statement is used in conjunction with an if statement to provide an alternative block of code to execute when the if condition is false.\n"
   ]
  },
  {
   "cell_type": "markdown",
   "id": "c885d916",
   "metadata": {},
   "source": [
    "How it works:\n",
    "1.\tPython evaluates the condition in the if statement.\n",
    "2.\tIf the condition is True, the if block is executed.\n",
    "3.\tIf the condition is False, the else block is executed.\n"
   ]
  },
  {
   "cell_type": "code",
   "execution_count": 48,
   "id": "da486993",
   "metadata": {},
   "outputs": [
    {
     "name": "stdout",
     "output_type": "stream",
     "text": [
      "The number is odd.\n"
     ]
    }
   ],
   "source": [
    "num = 7\n",
    "\n",
    "if num % 2 == 0:\n",
    "    print(\"The number is even.\")\n",
    "else:\n",
    "    print(\"The number is odd.\")\n",
    "\n",
    "\n",
    "#Output:\n",
    "#The number is odd.\n"
   ]
  },
  {
   "cell_type": "markdown",
   "id": "d4fde834",
   "metadata": {},
   "source": [
    "The elif Statement\n",
    "The elif statement (short for \"else if\") allows you to check multiple conditions sequentially. It's useful when you have more than two possible outcomes. Python checks elif conditions only if the preceding if or elif conditions were false.\n"
   ]
  },
  {
   "cell_type": "markdown",
   "id": "3c877210",
   "metadata": {},
   "source": [
    "How it works:\n",
    "1.\tPython evaluates condition1. If True, the first block is executed, and the rest of the elif/else chain is skipped.\n",
    "2.\tIf condition1 is False, Python evaluates condition2. If True, the second block is executed, and the rest of the elif/else chain is skipped.\n",
    "3.\tThis continues for all elif statements.\n",
    "4.\tIf none of the if or elif conditions are True, the else block (if present) is executed.\n"
   ]
  },
  {
   "cell_type": "code",
   "execution_count": 49,
   "id": "1e9cc586",
   "metadata": {},
   "outputs": [
    {
     "name": "stdout",
     "output_type": "stream",
     "text": [
      "Grade: B\n"
     ]
    }
   ],
   "source": [
    "score = 85\n",
    "\n",
    "if score >= 90:\n",
    "    print(\"Grade: A\")\n",
    "elif score >= 80:\n",
    "    print(\"Grade: B\")\n",
    "elif score >= 70:\n",
    "    print(\"Grade: C\")\n",
    "elif score >= 60:\n",
    "    print(\"Grade: D\")\n",
    "else:\n",
    "    print(\"Grade: F\")\n"
   ]
  },
  {
   "cell_type": "markdown",
   "id": "ca4f6de2",
   "metadata": {},
   "source": [
    "# Q7.Describe the different types of loops in Python and their use cases with examples."
   ]
  },
  {
   "cell_type": "markdown",
   "id": "41be510a",
   "metadata": {},
   "source": [
    "In Python, loops are used to execute a block of code repeatedly. This is very useful for automating repetitive tasks, iterating over collections of data, and more. Python primarily offers two types of loops: for loops and while loops."
   ]
  },
  {
   "cell_type": "markdown",
   "id": "102e875d",
   "metadata": {},
   "source": [
    "1. The for Loop\n",
    "The for loop is used for iterating over a sequence (such as a list, tuple, string, or range) or other iterable objects. It executes a block of code for each item in the sequence.\n"
   ]
  },
  {
   "cell_type": "markdown",
   "id": "3a487389",
   "metadata": {},
   "source": [
    "Use Cases:\n",
    "•\tIterating over lists, tuples, and strings: Processing each element or character.\n",
    "•\tPerforming a fixed number of iterations: Using the range() function.\n",
    "•\tIterating over dictionaries: Accessing keys, values, or both.\n"
   ]
  },
  {
   "cell_type": "code",
   "execution_count": 50,
   "id": "0ad717c8",
   "metadata": {},
   "outputs": [
    {
     "name": "stdout",
     "output_type": "stream",
     "text": [
      "apple\n",
      "banana\n",
      "cherry\n"
     ]
    }
   ],
   "source": [
    "#Example 1: Iterating over a list\n",
    "fruits = [\"apple\", \"banana\", \"cherry\"]\n",
    "for fruit in fruits:\n",
    "    print(fruit)\n"
   ]
  },
  {
   "cell_type": "markdown",
   "id": "9aaa91a9",
   "metadata": {},
   "source": [
    "Example 3: Using range() for a fixed number of iterations\n",
    "\n",
    "The range() function generates a sequence of numbers.\n",
    "\n",
    "•\trange(stop): Generates numbers from 0 up to (but not including) stop.\n",
    "\n",
    "•\trange(start, stop): Generates numbers from start up to (but not including) stop.\n",
    "\n",
    "•\trange(start, stop, step): Generates numbers from start up to (but not including) stop, with a specified step.\n"
   ]
  },
  {
   "cell_type": "code",
   "execution_count": 51,
   "id": "adfc383b",
   "metadata": {},
   "outputs": [
    {
     "name": "stdout",
     "output_type": "stream",
     "text": [
      "0 1 2 3 4 5 6 7 8 9 "
     ]
    }
   ],
   "source": [
    "for i in range(0,10):\n",
    "    print(i,end=\" \")"
   ]
  },
  {
   "cell_type": "markdown",
   "id": "a80d047d",
   "metadata": {},
   "source": [
    "2. The while Loop\n",
    "The while loop repeatedly executes a block of code as long as a given condition is True.\n"
   ]
  },
  {
   "cell_type": "markdown",
   "id": "025a5be1",
   "metadata": {},
   "source": [
    "Use Cases:\n",
    "•\tWhen the number of iterations is unknown: The loop continues until a specific condition is met.\n",
    "\n",
    "•\tImplementing user input validation: Repeating a prompt until valid input is received.\n",
    "    \n",
    "•\tGame loops: Continuing a game as long as certain game conditions are met.\n"
   ]
  },
  {
   "cell_type": "code",
   "execution_count": 52,
   "id": "0676cb81",
   "metadata": {},
   "outputs": [
    {
     "name": "stdout",
     "output_type": "stream",
     "text": [
      "0\n",
      "1\n",
      "2\n",
      "3\n",
      "4\n"
     ]
    }
   ],
   "source": [
    "#Example 1: Counting up to a number\n",
    "#Python\n",
    "count = 0\n",
    "while count < 5:\n",
    "    print(count)\n",
    "    count += 1 # Increment count to eventually make the condition False\n"
   ]
  },
  {
   "cell_type": "code",
   "execution_count": null,
   "id": "2336ded3",
   "metadata": {},
   "outputs": [],
   "source": []
  }
 ],
 "metadata": {
  "kernelspec": {
   "display_name": "Python 3 (ipykernel)",
   "language": "python",
   "name": "python3"
  },
  "language_info": {
   "codemirror_mode": {
    "name": "ipython",
    "version": 3
   },
   "file_extension": ".py",
   "mimetype": "text/x-python",
   "name": "python",
   "nbconvert_exporter": "python",
   "pygments_lexer": "ipython3",
   "version": "3.9.13"
  }
 },
 "nbformat": 4,
 "nbformat_minor": 5
}
