{
 "cells": [
  {
   "cell_type": "code",
   "execution_count": 13,
   "id": "7e65405e",
   "metadata": {},
   "outputs": [],
   "source": [
    "from pathlib import Path\n",
    "import os"
   ]
  },
  {
   "cell_type": "code",
   "execution_count": 14,
   "id": "029481d2",
   "metadata": {},
   "outputs": [],
   "source": [
    "# File paths\n",
    "file_name = \"my_file.txt\"\n",
    "copy_file_name = \"my_file_copy.txt\""
   ]
  },
  {
   "cell_type": "markdown",
   "id": "378c25d7",
   "metadata": {},
   "source": [
    "# Task 1: Create a new text file and write a few lines of text into it"
   ]
  },
  {
   "cell_type": "code",
   "execution_count": 15,
   "id": "aa8a19a2",
   "metadata": {},
   "outputs": [],
   "source": [
    "with open(file_name, 'w') as f:\n",
    "    f.write(\"Hello, this is line 1.\\n\")\n",
    "    f.write(\"This is line 2.\\n\")\n",
    "    f.write(\"Line 3 is here.\\n\")"
   ]
  },
  {
   "cell_type": "markdown",
   "id": "ae3d61b1",
   "metadata": {},
   "source": [
    "# Task 2: Open and read the contents of the file you just created"
   ]
  },
  {
   "cell_type": "code",
   "execution_count": 16,
   "id": "8a5e21c1",
   "metadata": {},
   "outputs": [
    {
     "name": "stdout",
     "output_type": "stream",
     "text": [
      "Task 2: File Contents:\n",
      "\n",
      "Hello, this is line 1.\n",
      "This is line 2.\n",
      "Line 3 is here.\n",
      "\n"
     ]
    }
   ],
   "source": [
    "with open(file_name, 'r') as f:\n",
    "    print(\"Task 2: File Contents:\\n\")\n",
    "    print(f.read())"
   ]
  },
  {
   "cell_type": "markdown",
   "id": "163b7abc",
   "metadata": {},
   "source": [
    "# Task 3: Add additional text to the existing file without deleting the current content."
   ]
  },
  {
   "cell_type": "code",
   "execution_count": 17,
   "id": "0952eba1",
   "metadata": {},
   "outputs": [],
   "source": [
    "with open(file_name, 'a') as f:\n",
    "    f.write(\"Appending line 4.\\n\")\n",
    "    f.write(\"Appending line 5.\\n\")"
   ]
  },
  {
   "cell_type": "markdown",
   "id": "6efe5dc6",
   "metadata": {},
   "source": [
    "# Task 4: Read and print each line from the file one by one"
   ]
  },
  {
   "cell_type": "code",
   "execution_count": 18,
   "id": "af46a430",
   "metadata": {},
   "outputs": [
    {
     "name": "stdout",
     "output_type": "stream",
     "text": [
      "Task 4: Reading lines one by one:\n",
      "Hello, this is line 1.\n",
      "This is line 2.\n",
      "Line 3 is here.\n",
      "Appending line 4.\n",
      "Appending line 5.\n"
     ]
    }
   ],
   "source": [
    "\n",
    "print(\"Task 4: Reading lines one by one:\")\n",
    "with open(file_name, 'r') as f:\n",
    "    for line in f:\n",
    "        print(line.strip())"
   ]
  },
  {
   "cell_type": "markdown",
   "id": "a28cd97b",
   "metadata": {},
   "source": [
    "# Task 5: Write the contents of a list to a file, with each item on a new line"
   ]
  },
  {
   "cell_type": "code",
   "execution_count": 19,
   "id": "d96204d0",
   "metadata": {},
   "outputs": [],
   "source": [
    "my_list = [\"Apple\", \"Banana\", \"Cherry\"]\n",
    "with open(\"list_file.txt\", 'w') as f:\n",
    "    for item in my_list:\n",
    "        f.write(item + \"\\n\")"
   ]
  },
  {
   "cell_type": "markdown",
   "id": "96284d33",
   "metadata": {},
   "source": [
    "# Task 6: Read the file content into a list, where each line is an element of the list."
   ]
  },
  {
   "cell_type": "code",
   "execution_count": 20,
   "id": "7ba961bf",
   "metadata": {},
   "outputs": [
    {
     "name": "stdout",
     "output_type": "stream",
     "text": [
      "Task 6: List from file: ['Apple', 'Banana', 'Cherry']\n"
     ]
    }
   ],
   "source": [
    "with open(\"list_file.txt\", 'r') as f:\n",
    "    lines = f.readlines()\n",
    "    lines = [line.strip() for line in lines]\n",
    "    print(\"Task 6: List from file:\", lines)"
   ]
  },
  {
   "cell_type": "markdown",
   "id": "ea6651e8",
   "metadata": {},
   "source": [
    "# Task 7: Count the total number of words in the file."
   ]
  },
  {
   "cell_type": "code",
   "execution_count": 21,
   "id": "72fd4d2c",
   "metadata": {},
   "outputs": [
    {
     "name": "stdout",
     "output_type": "stream",
     "text": [
      "Task 7: Total number of words: 19\n"
     ]
    }
   ],
   "source": [
    "with open(file_name, 'r') as f:\n",
    "    text = f.read()\n",
    "    words = text.split()\n",
    "    print(\"Task 7: Total number of words:\", len(words))"
   ]
  },
  {
   "cell_type": "markdown",
   "id": "ca7912da",
   "metadata": {},
   "source": [
    "# Task 8: Copy the contents of one file to another file."
   ]
  },
  {
   "cell_type": "code",
   "execution_count": 22,
   "id": "68a3099d",
   "metadata": {},
   "outputs": [
    {
     "name": "stdout",
     "output_type": "stream",
     "text": [
      "Task 8: File copied successfully.\n"
     ]
    }
   ],
   "source": [
    "with open(file_name, 'r') as src, open(copy_file_name, 'w') as dst:\n",
    "    dst.write(src.read())\n",
    "print(\"Task 8: File copied successfully.\")"
   ]
  },
  {
   "cell_type": "markdown",
   "id": "ee957349",
   "metadata": {},
   "source": [
    "# Task 9: Check if a file exists before attempting to read it"
   ]
  },
  {
   "cell_type": "code",
   "execution_count": 23,
   "id": "d35bb677",
   "metadata": {},
   "outputs": [
    {
     "name": "stdout",
     "output_type": "stream",
     "text": [
      "Task 9: File exists. Reading file.\n",
      "Hello, this is line 1.\n",
      "This is line 2.\n",
      "Line 3 is here.\n",
      "Appending line 4.\n",
      "Appending line 5.\n",
      "\n"
     ]
    }
   ],
   "source": [
    "if Path(file_name).exists():\n",
    "    with open(file_name, 'r') as f:\n",
    "        print(\"Task 9: File exists. Reading file.\")\n",
    "        print(f.read())\n",
    "else:\n",
    "    print(\"Task 9: File does not exist.\")"
   ]
  },
  {
   "cell_type": "markdown",
   "id": "87614e78",
   "metadata": {},
   "source": [
    "# Task 10: Delete a file using Python"
   ]
  },
  {
   "cell_type": "code",
   "execution_count": 24,
   "id": "8c554671",
   "metadata": {},
   "outputs": [
    {
     "name": "stdout",
     "output_type": "stream",
     "text": [
      "Task 10: File deleted: my_file_copy.txt\n"
     ]
    }
   ],
   "source": [
    "if Path(copy_file_name).exists():\n",
    "    os.remove(copy_file_name)\n",
    "    print(\"Task 10: File deleted:\", copy_file_name)\n",
    "else:\n",
    "    print(\"Task 10: File to delete not found.\")"
   ]
  },
  {
   "cell_type": "code",
   "execution_count": null,
   "id": "c08b54a9",
   "metadata": {},
   "outputs": [],
   "source": []
  }
 ],
 "metadata": {
  "kernelspec": {
   "display_name": "Python 3 (ipykernel)",
   "language": "python",
   "name": "python3"
  },
  "language_info": {
   "codemirror_mode": {
    "name": "ipython",
    "version": 3
   },
   "file_extension": ".py",
   "mimetype": "text/x-python",
   "name": "python",
   "nbconvert_exporter": "python",
   "pygments_lexer": "ipython3",
   "version": "3.9.13"
  }
 },
 "nbformat": 4,
 "nbformat_minor": 5
}
