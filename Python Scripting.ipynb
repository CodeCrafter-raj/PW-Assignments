{
 "cells": [
  {
   "cell_type": "markdown",
   "id": "6ce75c25",
   "metadata": {},
   "source": [
    "# Python Scripting"
   ]
  },
  {
   "cell_type": "markdown",
   "id": "6521f858",
   "metadata": {},
   "source": [
    "# 1. Write Python scripts for basic file operations and data processing?"
   ]
  },
  {
   "cell_type": "markdown",
   "id": "3b56ff59",
   "metadata": {},
   "source": [
    "Scenario Used in Example\n",
    "Suppose we have a text file students.txt that contains student names and scores:"
   ]
  },
  {
   "cell_type": "markdown",
   "id": "3517d350",
   "metadata": {},
   "source": [
    "Alice,85\n",
    "Bob,78\n",
    "Charlie,92\n",
    "David,60\n",
    "Eva,99\n"
   ]
  },
  {
   "cell_type": "markdown",
   "id": "e3434eb3",
   "metadata": {},
   "source": [
    "We will:\n",
    "\n",
    "Read the data\n",
    "\n",
    "Parse and process it (e.g., filter students who scored > 80)\n",
    "\n",
    "Write the result to a new file top_students.txt"
   ]
  },
  {
   "cell_type": "code",
   "execution_count": 2,
   "id": "c79cd657",
   "metadata": {},
   "outputs": [],
   "source": [
    "import os\n",
    "\n",
    "# 1. File path setup\n",
    "input_file = 'students.txt'\n",
    "output_file = 'top_students.txt'\n",
    "append_file = 'log.txt'\n"
   ]
  },
  {
   "cell_type": "code",
   "execution_count": 3,
   "id": "7a0215c8",
   "metadata": {},
   "outputs": [],
   "source": [
    "# 2. Write some sample data to input file (for demonstration)\n",
    "with open(input_file, 'w') as f:\n",
    "    f.write(\"Alice,85\\nBob,78\\nCharlie,92\\nDavid,60\\nEva,99\\n\")"
   ]
  },
  {
   "cell_type": "code",
   "execution_count": 4,
   "id": "ce2f8d43",
   "metadata": {},
   "outputs": [],
   "source": [
    "# 3. Read and process data\n",
    "top_students = []\n",
    "\n",
    "with open(input_file, 'r') as file:\n",
    "    for line in file:\n",
    "        name, score_str = line.strip().split(',')\n",
    "        score = int(score_str)\n",
    "        if score > 80:\n",
    "            top_students.append((name, score))\n"
   ]
  },
  {
   "cell_type": "code",
   "execution_count": 5,
   "id": "f441671c",
   "metadata": {},
   "outputs": [],
   "source": [
    "# 4. Write processed data to a new file\n",
    "with open(output_file, 'w') as f:\n",
    "    for name, score in top_students:\n",
    "        f.write(f\"{name},{score}\\n\")"
   ]
  },
  {
   "cell_type": "code",
   "execution_count": 6,
   "id": "cf14f0c9",
   "metadata": {},
   "outputs": [],
   "source": [
    "# 5. Append log entry to another file\n",
    "with open(append_file, 'a') as log:\n",
    "    log.write(\"Filtered top students written to top_students.txt\\n\")"
   ]
  },
  {
   "cell_type": "code",
   "execution_count": 7,
   "id": "8a5a2623",
   "metadata": {},
   "outputs": [
    {
     "name": "stdout",
     "output_type": "stream",
     "text": [
      "Top students with score > 80:\n",
      "Alice: 85\n",
      "Charlie: 92\n",
      "Eva: 99\n"
     ]
    }
   ],
   "source": [
    "\n",
    "# 6. Displaying results (for confirmation)\n",
    "print(\"Top students with score > 80:\")\n",
    "for name, score in top_students:\n",
    "    print(f\"{name}: {score}\")\n"
   ]
  },
  {
   "cell_type": "markdown",
   "id": "7ae2d576",
   "metadata": {},
   "source": [
    "# File/Directory Manipulation"
   ]
  },
  {
   "cell_type": "code",
   "execution_count": 8,
   "id": "a37b9393",
   "metadata": {},
   "outputs": [],
   "source": [
    "import os\n",
    "from pathlib import Path\n",
    "import shutil\n",
    "import glob"
   ]
  },
  {
   "cell_type": "code",
   "execution_count": 9,
   "id": "c758ce91",
   "metadata": {},
   "outputs": [],
   "source": [
    "# Create a new directory\n",
    "Path(\"example_dir\").mkdir(exist_ok=True)"
   ]
  },
  {
   "cell_type": "code",
   "execution_count": 10,
   "id": "87b33f36",
   "metadata": {},
   "outputs": [
    {
     "name": "stdout",
     "output_type": "stream",
     "text": [
      "Text files: ['example_dir\\\\file_0.txt', 'example_dir\\\\file_1.txt', 'example_dir\\\\file_2.txt']\n"
     ]
    }
   ],
   "source": [
    "# Create some sample files\n",
    "for i in range(3):\n",
    "    Path(f\"example_dir/file_{i}.txt\").write_text(f\"This is file {i}\")\n",
    "\n",
    "# List all .txt files using glob\n",
    "txt_files = glob.glob(\"example_dir/*.txt\")\n",
    "print(\"Text files:\", txt_files)\n"
   ]
  },
  {
   "cell_type": "code",
   "execution_count": 11,
   "id": "44852b22",
   "metadata": {},
   "outputs": [
    {
     "data": {
      "text/plain": [
       "'archive/file_0.txt'"
      ]
     },
     "execution_count": 11,
     "metadata": {},
     "output_type": "execute_result"
    }
   ],
   "source": [
    "# Move one file to a new folder\n",
    "Path(\"archive\").mkdir(exist_ok=True)\n",
    "shutil.move(txt_files[0], \"archive/\")"
   ]
  },
  {
   "cell_type": "code",
   "execution_count": 12,
   "id": "c9f79005",
   "metadata": {},
   "outputs": [],
   "source": [
    "# Rename a file\n",
    "os.rename(\"example_dir/file_1.txt\", \"example_dir/renamed_file.txt\")"
   ]
  },
  {
   "cell_type": "code",
   "execution_count": 13,
   "id": "9bd3a753",
   "metadata": {},
   "outputs": [],
   "source": [
    "\n",
    "# Remove a file\n",
    "os.remove(\"example_dir/file_2.txt\")"
   ]
  },
  {
   "cell_type": "code",
   "execution_count": 14,
   "id": "263f7132",
   "metadata": {},
   "outputs": [],
   "source": [
    "# Clean up: delete directories\n",
    "shutil.rmtree(\"example_dir\")\n",
    "shutil.rmtree(\"archive\")"
   ]
  },
  {
   "cell_type": "markdown",
   "id": "c44f978e",
   "metadata": {},
   "source": [
    "# Parsing and Transforming Data (String & Regex)"
   ]
  },
  {
   "cell_type": "code",
   "execution_count": 15,
   "id": "c48c8f95",
   "metadata": {},
   "outputs": [
    {
     "name": "stdout",
     "output_type": "stream",
     "text": [
      "People older than 25: ['John (28)', 'Maria (35)']\n"
     ]
    }
   ],
   "source": [
    "import re\n",
    "\n",
    "data = [\n",
    "    \"John, Age: 28\",\n",
    "    \"Maria, Age: 35\",\n",
    "    \"David, Age: 22\"\n",
    "]\n",
    "\n",
    "# Extract names and ages using regex\n",
    "parsed_data = []\n",
    "\n",
    "for entry in data:\n",
    "    match = re.match(r\"(\\w+), Age: (\\d+)\", entry)\n",
    "    if match:\n",
    "        name, age = match.groups()\n",
    "        parsed_data.append((name, int(age)))\n",
    "\n",
    "# Transform: only people older than 25\n",
    "older_people = [f\"{name} ({age})\" for name, age in parsed_data if age > 25]\n",
    "\n",
    "print(\"People older than 25:\", older_people)\n"
   ]
  },
  {
   "cell_type": "markdown",
   "id": "bd933b03",
   "metadata": {},
   "source": [
    "# Email Validation with Regex"
   ]
  },
  {
   "cell_type": "code",
   "execution_count": 16,
   "id": "ce3d0be7",
   "metadata": {},
   "outputs": [
    {
     "name": "stdout",
     "output_type": "stream",
     "text": [
      "--- Email Validation Examples ---\n",
      "'test@example.com' is valid: True\n",
      "'john.doe123@sub.domain.co.uk' is valid: True\n",
      "'invalid-email' is valid: False\n",
      "'user@.com' is valid: False\n",
      "'user@domain' is valid: False\n",
      "'user@domain.c' is valid: False\n",
      "'user@domain.commm' is valid: True\n",
      "'firstname.lastname@example.org' is valid: True\n",
      "'email@example.test.net' is valid: True\n",
      "'email@123.456.789.10' is valid: False\n"
     ]
    }
   ],
   "source": [
    "import re\n",
    "\n",
    "def is_valid_email(email: str) -> bool:\n",
    "    \"\"\"\n",
    "    Validates an email address using a regular expression.\n",
    "\n",
    "    Args:\n",
    "        email (str): The email address string to validate.\n",
    "\n",
    "    Returns:\n",
    "        bool: True if the email is valid, False otherwise.\n",
    "    \"\"\"\n",
    "    email_pattern = re.compile(r\"^[a-zA-Z0-9._%+-]+@[a-zA-Z0-9.-]+\\.[a-zA-Z]{2,6}$\")\n",
    "\n",
    "    # re.match() checks for a match only at the beginning of the string.\n",
    "    # If the entire string should match the pattern, re.fullmatch() is also an option.\n",
    "    # For simple validation where the pattern should cover the whole string,\n",
    "    # including ^ and $ in the pattern with re.match() achieves the same.\n",
    "    if email_pattern.match(email):\n",
    "        return True\n",
    "    else:\n",
    "        return False\n",
    "\n",
    "# --- Example Usage ---\n",
    "print(\"--- Email Validation Examples ---\")\n",
    "print(f\"'test@example.com' is valid: {is_valid_email('test@example.com')}\")\n",
    "print(f\"'john.doe123@sub.domain.co.uk' is valid: {is_valid_email('john.doe123@sub.domain.co.uk')}\")\n",
    "print(f\"'invalid-email' is valid: {is_valid_email('invalid-email')}\")\n",
    "print(f\"'user@.com' is valid: {is_valid_email('user@.com')}\")\n",
    "print(f\"'user@domain' is valid: {is_valid_email('user@domain')}\")\n",
    "print(f\"'user@domain.c' is valid: {is_valid_email('user@domain.c')}\") \n",
    "print(f\"'user@domain.commm' is valid: {is_valid_email('user@domain.commm')}\") \n",
    "print(f\"'firstname.lastname@example.org' is valid: {is_valid_email('firstname.lastname@example.org')}\")\n",
    "print(f\"'email@example.test.net' is valid: {is_valid_email('email@example.test.net')}\")\n",
    "print(f\"'email@123.456.789.10' is valid: {is_valid_email('email@123.456.789.10')}\")"
   ]
  },
  {
   "cell_type": "markdown",
   "id": "09fedd47",
   "metadata": {},
   "source": [
    "# Phone Number Validation with Country codes"
   ]
  },
  {
   "cell_type": "code",
   "execution_count": 17,
   "id": "dc8cfa56",
   "metadata": {},
   "outputs": [
    {
     "name": "stdout",
     "output_type": "stream",
     "text": [
      "\n",
      "--- Phone Number Validation Examples ---\n",
      "'(123) 456-7890' is valid: True\n",
      "'123-456-7890' is valid: True\n",
      "'123.456.7890' is valid: True\n",
      "'1234567890' is valid: True\n",
      "'+1 123-456-7890' is valid: True\n",
      "'1-123-456-7890' is valid: True\n",
      "'invalid-phone' is valid: False\n",
      "'123-4567' is valid: False\n",
      "'(123)X456-7890' is valid: False\n"
     ]
    }
   ],
   "source": [
    "import re\n",
    "\n",
    "def is_valid_phone(phone_number: str) -> bool:\n",
    "    \"\"\"\n",
    "    Validates a phone number using a regular expression, accommodating several common formats.\n",
    "\n",
    "    Args:\n",
    "        phone_number (str): The phone number string to validate.\n",
    "\n",
    "    Returns:\n",
    "        bool: True if the phone number is valid, False otherwise.\n",
    "    \"\"\"\n",
    "    phone_pattern = re.compile(r\"^((\\+1|1)\\s*[-\\.\\s]?)?(\\(?\\d{3}\\)?|\\d{3})[-\\.\\s]?\\d{3}[-\\.\\s]?\\d{4}$\")\n",
    "\n",
    "    # re.match() checks for a match only at the beginning of the string.\n",
    "    # For full string validation, including ^ and $ in the pattern with re.match() is effective.\n",
    "    if phone_pattern.match(phone_number):\n",
    "        return True\n",
    "    else:\n",
    "        return False\n",
    "\n",
    "# --- Example Usage ---\n",
    "print(\"\\n--- Phone Number Validation Examples ---\")\n",
    "print(f\"'(123) 456-7890' is valid: {is_valid_phone('(123) 456-7890')}\")\n",
    "print(f\"'123-456-7890' is valid: {is_valid_phone('123-456-7890')}\")\n",
    "print(f\"'123.456.7890' is valid: {is_valid_phone('123.456.7890')}\")\n",
    "print(f\"'1234567890' is valid: {is_valid_phone('1234567890')}\")\n",
    "print(f\"'+1 123-456-7890' is valid: {is_valid_phone('+1 123-456-7890')}\")\n",
    "print(f\"'1-123-456-7890' is valid: {is_valid_phone('1-123-456-7890')}\")\n",
    "print(f\"'invalid-phone' is valid: {is_valid_phone('invalid-phone')}\")\n",
    "print(f\"'123-4567' is valid: {is_valid_phone('123-4567')}\") # Too short\n",
    "print(f\"'(123)X456-7890' is valid: {is_valid_phone('(123)X456-7890')}\") # Invalid character 'X'"
   ]
  },
  {
   "cell_type": "markdown",
   "id": "4f7d35af",
   "metadata": {},
   "source": [
    "# Enhanced Phone Number Validation with Country Codes"
   ]
  },
  {
   "cell_type": "code",
   "execution_count": 18,
   "id": "afb1f5b7",
   "metadata": {},
   "outputs": [
    {
     "name": "stdout",
     "output_type": "stream",
     "text": [
      "--- Phone Number Validation Examples ---\n",
      "'+919876543210' status: Valid - India\n",
      "'09876543210' status: Valid - India\n",
      "'9876543210' status: Valid - India\n",
      "'+91 98765 43210' status: Valid - India\n",
      "'(123) 456-7890' status: Valid - US/Canada\n",
      "'123-456-7890' status: Valid - US/Canada\n",
      "'123.456.7890' status: Valid - US/Canada\n",
      "'1234567890' status: Valid - US/Canada\n",
      "'+1 123-456-7890' status: Valid - US/Canada\n",
      "'+447911123456' status: Valid - UK\n",
      "'07911123456' status: Valid - India\n",
      "'7911123456' status: Valid - India\n",
      "'+61412345678' status: Valid - Australia\n",
      "'0412345678' status: Valid - US/Canada\n",
      "'412345678' status: Valid - Australia\n",
      "'+5511987654321' status: Valid - Other International\n",
      "'+8613800138000' status: Valid - Other International\n",
      "'invalid-phone' status: Spam - Unusual/Invalid Format\n",
      "'123-4567' status: Spam - Unusual/Invalid Format\n",
      "'(123)X456-7890' status: Spam - Unusual/Invalid Format\n",
      "'+91123' status: Spam - Unusual/Invalid Format\n"
     ]
    }
   ],
   "source": [
    "import re\n",
    "\n",
    "def validate_phone_number(phone_number: str) -> str:\n",
    "    \"\"\"\n",
    "    Validates a phone number against country-specific patterns and categorizes it.\n",
    "\n",
    "    Args:\n",
    "        phone_number (str): The phone number string to validate.\n",
    "\n",
    "    Returns:\n",
    "        str: A string indicating the validation status (e.g., \"Valid - India\",\n",
    "             \"Valid - US/Canada\", \"Valid - UK\", \"Valid - Australia\",\n",
    "             \"Valid - Other International\", \"Invalid\", \"Spam\").\n",
    "    \"\"\"\n",
    "\n",
    "    # Clean the phone number by removing common non-digit characters\n",
    "    # (except for the leading + sign, which is handled by regex).\n",
    "    cleaned_number = re.sub(r'[()\\s.-]', '', phone_number)\n",
    "\n",
    "    # Define regex patterns for different countries\n",
    "    # Each pattern includes optional country codes and common separators.\n",
    "    # The patterns are compiled for efficiency.\n",
    "\n",
    "    # 1. India (+91)\n",
    "    # Allows +91, 0, or no prefix, followed by 10 digits.\n",
    "    # Indian mobile numbers typically start with 6, 7, 8, or 9.\n",
    "    india_pattern = re.compile(r\"^((\\+91|0)?)?[6789]\\d{9}$\")\n",
    "    if india_pattern.fullmatch(cleaned_number):\n",
    "        return \"Valid - India\"\n",
    "\n",
    "    # 2. US/Canada (+1)\n",
    "    # Allows +1, 1, or no prefix. Supports (XXX) XXX-XXXX, XXX-XXX-XXXX, XXXXXXXXXX.\n",
    "    # The original pattern was quite robust for NA numbers.\n",
    "    us_canada_pattern = re.compile(r\"^((\\+1|1)?)?(\\d{3})(\\d{3})(\\d{4})$\")\n",
    "    if us_canada_pattern.fullmatch(cleaned_number):\n",
    "        return \"Valid - US/Canada\"\n",
    "\n",
    "    # 3. United Kingdom (+44)\n",
    "    # Allows +44, 0, or no prefix. UK mobile numbers generally start with 7 and are 10 digits long (after the 0 or +44).\n",
    "    # This is a simplified pattern for common mobile numbers.\n",
    "    uk_pattern = re.compile(r\"^((\\+44|0)?)?7\\d{9}$\")\n",
    "    if uk_pattern.fullmatch(cleaned_number):\n",
    "        return \"Valid - UK\"\n",
    "\n",
    "    # 4. Australia (+61)\n",
    "    # Allows +61, 0, or no prefix. Australian mobile numbers generally start with 4 and are 9 digits long (after the 0 or +61).\n",
    "    australia_pattern = re.compile(r\"^((\\+61|0)?)?4\\d{8}$\")\n",
    "    if australia_pattern.fullmatch(cleaned_number):\n",
    "        return \"Valid - Australia\"\n",
    "\n",
    "    # 5. Generic International (starts with + and has at least 7 digits, but not too many)\n",
    "    # This is a very broad pattern for numbers that start with '+' but don't fit specific country patterns above.\n",
    "    # It assumes international numbers are generally between 7 and 15 digits long after the '+'.\n",
    "    international_pattern = re.compile(r\"^\\+\\d{7,15}$\")\n",
    "    if international_pattern.fullmatch(cleaned_number):\n",
    "        return \"Valid - Other International\"\n",
    "\n",
    "    # If none of the above patterns match, consider it invalid.\n",
    "    # You can customize the \"Spam\" criteria further if needed.\n",
    "    # For this example, any number that doesn't fit a valid pattern is marked as \"Spam\".\n",
    "    return \"Spam - Unusual/Invalid Format\"\n",
    "\n",
    "# --- Example Usage ---\n",
    "print(\"--- Phone Number Validation Examples ---\")\n",
    "\n",
    "# Indian Numbers\n",
    "print(f\"'+919876543210' status: {validate_phone_number('+919876543210')}\")\n",
    "print(f\"'09876543210' status: {validate_phone_number('09876543210')}\")\n",
    "print(f\"'9876543210' status: {validate_phone_number('9876543210')}\")\n",
    "print(f\"'+91 98765 43210' status: {validate_phone_number('+91 98765 43210')}\") # With spaces, will be cleaned\n",
    "\n",
    "# US/Canada Numbers\n",
    "print(f\"'(123) 456-7890' status: {validate_phone_number('(123) 456-7890')}\")\n",
    "print(f\"'123-456-7890' status: {validate_phone_number('123-456-7890')}\")\n",
    "print(f\"'123.456.7890' status: {validate_phone_number('123.456.7890')}\")\n",
    "print(f\"'1234567890' status: {validate_phone_number('1234567890')}\")\n",
    "print(f\"'+1 123-456-7890' status: {validate_phone_number('+1 123-456-7890')}\")\n",
    "\n",
    "# UK Numbers\n",
    "print(f\"'+447911123456' status: {validate_phone_number('+447911123456')}\")\n",
    "print(f\"'07911123456' status: {validate_phone_number('07911123456')}\")\n",
    "print(f\"'7911123456' status: {validate_phone_number('7911123456')}\") # No prefix, but matches pattern\n",
    "\n",
    "# Australia Numbers\n",
    "print(f\"'+61412345678' status: {validate_phone_number('+61412345678')}\")\n",
    "print(f\"'0412345678' status: {validate_phone_number('0412345678')}\")\n",
    "print(f\"'412345678' status: {validate_phone_number('412345678')}\") # No prefix, but matches pattern\n",
    "\n",
    "# Other International Numbers\n",
    "print(f\"'+5511987654321' status: {validate_phone_number('+5511987654321')}\") # Example Brazil\n",
    "print(f\"'+8613800138000' status: {validate_phone_number('+8613800138000')}\") # Example China\n",
    "\n",
    "# Spam/Invalid Numbers\n",
    "print(f\"'invalid-phone' status: {validate_phone_number('invalid-phone')}\")\n",
    "print(f\"'123-4567' status: {validate_phone_number('123-4567')}\") # Too short\n",
    "print(f\"'(123)X456-7890' status: {validate_phone_number('(123)X456-7890')}\") # Invalid character 'X'\n",
    "print(f\"'+91123' status: {validate_phone_number('+91123')}\") # Too short for India\n"
   ]
  },
  {
   "cell_type": "markdown",
   "id": "8fe89b59",
   "metadata": {},
   "source": [
    "# 2. Develop a simple web scraper to extract data from a website?"
   ]
  },
  {
   "cell_type": "markdown",
   "id": "45d5e033",
   "metadata": {},
   "source": [
    "I have used w3school url to extract information about varibales in python"
   ]
  },
  {
   "cell_type": "code",
   "execution_count": 19,
   "id": "de3cf1cc",
   "metadata": {},
   "outputs": [
    {
     "name": "stdout",
     "output_type": "stream",
     "text": [
      "Attempting to scrape from: https://www.w3schools.com/python/python_variables.asp with selector: '#main p, #main h2, #main ul, #main pre'\n",
      "\n",
      "Extracted Data:\n",
      "- Variables\n",
      "---\n",
      "- Variables are containers for storing data values.\n",
      "---\n",
      "- Creating Variables\n",
      "---\n",
      "- Python has no command for declaring a variable.\n",
      "---\n",
      "- A variable is created the moment you first assign a value to it.\n",
      "---\n",
      "- Variables do not need to be declared with any particulartype, and can even change type after they have been set.\n",
      "---\n",
      "- Casting\n",
      "---\n",
      "- If you want to specify the data type of a variable, this can be done with casting.\n",
      "---\n",
      "- Get the Type\n",
      "---\n",
      "- You can get the data type of a variable with thetype()function.\n",
      "---\n",
      "- Single or Double Quotes?\n",
      "---\n",
      "- String variables can be declared either by using single or double quotes:\n",
      "---\n",
      "- Case-Sensitive\n",
      "---\n",
      "- Variable names are case-sensitive.\n",
      "---\n",
      "- This will create two variables:\n",
      "---\n",
      "- Video: Python Variables\n",
      "---\n"
     ]
    }
   ],
   "source": [
    "import requests\n",
    "from bs4 import BeautifulSoup\n",
    "\n",
    "def simple_web_scraper(url: str, css_selector: str) -> list[str]:\n",
    "    \"\"\"\n",
    "    A simple web scraper to extract text content based on a CSS selector from a given URL.\n",
    "\n",
    "    Args:\n",
    "        url (str): The URL of the webpage to scrape.\n",
    "        css_selector (str): The CSS selector to target specific elements.\n",
    "\n",
    "    Returns:\n",
    "        list[str]: A list of text content extracted from the matched elements.\n",
    "                   Returns an empty list if no content is found or an error occurs.\n",
    "    \"\"\"\n",
    "    try:\n",
    "        # Make an HTTP GET request to the specified URL\n",
    "        response = requests.get(url, timeout=10)\n",
    "        response.raise_for_status()  # Raise an HTTPError for bad responses (4xx or 5xx)\n",
    "\n",
    "        # Parse the HTML content of the page\n",
    "        soup = BeautifulSoup(response.text, 'html.parser')\n",
    "\n",
    "        # Find all elements that match the given CSS selector\n",
    "        elements = soup.select(css_selector)\n",
    "\n",
    "        extracted_data = []\n",
    "        if elements:\n",
    "            for element in elements:\n",
    "                # Extract text content and remove leading/trailing whitespace\n",
    "                text = element.get_text(strip=True)\n",
    "                extracted_data.append(text)\n",
    "            return extracted_data\n",
    "        else:\n",
    "            return []\n",
    "\n",
    "    except requests.exceptions.RequestException as e:\n",
    "        print(f\"Error fetching the URL: {e}\")\n",
    "        return []\n",
    "    except Exception as e:\n",
    "        print(f\"An unexpected error occurred: {e}\")\n",
    "        return []\n",
    "\n",
    "\n",
    "\n",
    "if __name__ == \"__main__\":\n",
    "    # Target URL for Python Variables on W3Schools\n",
    "    target_url = \"https://www.w3schools.com/python/python_variables.asp\"\n",
    "    # Selector to get paragraphs, headings, list items, and preformatted text (code examples)\n",
    "    # within the main content area of the page.\n",
    "    target_selector = \"#main p, #main h2, #main ul, #main pre\"\n",
    "\n",
    "    print(f\"Attempting to scrape from: {target_url} with selector: '{target_selector}'\")\n",
    "    data = simple_web_scraper(target_url, target_selector)\n",
    "\n",
    "    if data:\n",
    "        print(\"\\nExtracted Data:\")\n",
    "        for item in data:\n",
    "            print(f\"- {item}\\n---\") # Added separator for readability\n",
    "    else:\n",
    "        print(\"\\nNo data extracted.\")"
   ]
  },
  {
   "cell_type": "code",
   "execution_count": null,
   "id": "2c75d26e",
   "metadata": {},
   "outputs": [],
   "source": []
  }
 ],
 "metadata": {
  "kernelspec": {
   "display_name": "Python 3 (ipykernel)",
   "language": "python",
   "name": "python3"
  },
  "language_info": {
   "codemirror_mode": {
    "name": "ipython",
    "version": 3
   },
   "file_extension": ".py",
   "mimetype": "text/x-python",
   "name": "python",
   "nbconvert_exporter": "python",
   "pygments_lexer": "ipython3",
   "version": "3.9.13"
  }
 },
 "nbformat": 4,
 "nbformat_minor": 5
}
